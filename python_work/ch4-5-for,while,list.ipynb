{
 "cells": [
  {
   "cell_type": "code",
   "execution_count": 3,
   "metadata": {},
   "outputs": [
    {
     "data": {
      "text/plain": [
       "range(0, 5)"
      ]
     },
     "execution_count": 3,
     "metadata": {},
     "output_type": "execute_result"
    }
   ],
   "source": [
    "r= range(5) # 내장함수, 시작-종료 범쉬 숫자를 발생!\n",
    "r"
   ]
  },
  {
   "cell_type": "code",
   "execution_count": 4,
   "metadata": {},
   "outputs": [
    {
     "name": "stdout",
     "output_type": "stream",
     "text": [
      "range(0, 5)\n"
     ]
    }
   ],
   "source": [
    "print(r)"
   ]
  },
  {
   "cell_type": "code",
   "execution_count": 5,
   "metadata": {},
   "outputs": [
    {
     "data": {
      "text/plain": [
       "range"
      ]
     },
     "execution_count": 5,
     "metadata": {},
     "output_type": "execute_result"
    }
   ],
   "source": [
    "type(r)"
   ]
  },
  {
   "cell_type": "code",
   "execution_count": 6,
   "metadata": {},
   "outputs": [
    {
     "data": {
      "text/plain": [
       "5"
      ]
     },
     "execution_count": 6,
     "metadata": {},
     "output_type": "execute_result"
    }
   ],
   "source": [
    "len(r)"
   ]
  },
  {
   "cell_type": "code",
   "execution_count": 10,
   "metadata": {},
   "outputs": [
    {
     "name": "stdout",
     "output_type": "stream",
     "text": [
      "0\n",
      "1\n",
      "2\n",
      "3\n",
      "4\n"
     ]
    }
   ],
   "source": [
    "for x in range(5):\n",
    "    print(x)"
   ]
  },
  {
   "cell_type": "code",
   "execution_count": 11,
   "metadata": {},
   "outputs": [
    {
     "name": "stdout",
     "output_type": "stream",
     "text": [
      "0\n",
      "1\n",
      "2\n",
      "3\n",
      "4\n"
     ]
    }
   ],
   "source": [
    "for x in r:\n",
    "    print(x)"
   ]
  },
  {
   "cell_type": "code",
   "execution_count": 13,
   "metadata": {
    "scrolled": true
   },
   "outputs": [
    {
     "name": "stdout",
     "output_type": "stream",
     "text": [
      "\n",
      "*****\n",
      "**********\n",
      "***************\n",
      "********************\n",
      "*************************\n",
      "******************************\n",
      "***********************************\n",
      "****************************************\n",
      "*********************************************\n"
     ]
    }
   ],
   "source": [
    "for x in range(0,50,5):\n",
    "    print('*'*x)"
   ]
  },
  {
   "cell_type": "code",
   "execution_count": 14,
   "metadata": {},
   "outputs": [
    {
     "name": "stdout",
     "output_type": "stream",
     "text": [
      "**********\n",
      "+++++++++++\n",
      "************\n",
      "+++++++++++++\n",
      "**************\n",
      "+++++++++++++++\n",
      "****************\n",
      "+++++++++++++++++\n",
      "******************\n",
      "+++++++++++++++++++\n"
     ]
    }
   ],
   "source": [
    "for x in range(10,20):\n",
    "    if x % 2 ==0 :\n",
    "        print(x * '*')\n",
    "    else:\n",
    "        print(x * '+')"
   ]
  },
  {
   "cell_type": "code",
   "execution_count": 15,
   "metadata": {},
   "outputs": [
    {
     "name": "stdout",
     "output_type": "stream",
     "text": [
      "3 6 9 12 15 18 21 24 27 30 33 36 39 42 45 48 51 54 57 60 63 66 69 72 75 78 81 84 87 90 93 96 99 \n",
      " --------------------------------------------------\n",
      "합계: 1683\n"
     ]
    }
   ],
   "source": [
    "sum = 0\n",
    "for i in range(1,101):\n",
    "    if i%3==0:\n",
    "        print('%d' %i, end = ' ')\n",
    "        sum += i\n",
    "print ('\\n','-'*50)\n",
    "print ('합계: %d' %sum)"
   ]
  },
  {
   "cell_type": "code",
   "execution_count": 16,
   "metadata": {},
   "outputs": [
    {
     "name": "stdout",
     "output_type": "stream",
     "text": [
      "*\n",
      "*\n",
      "*\n",
      "*\n",
      "*\n"
     ]
    }
   ],
   "source": [
    "x = 0\n",
    "while x<5:\n",
    "    print('*')\n",
    "    x+=1"
   ]
  },
  {
   "cell_type": "code",
   "execution_count": 17,
   "metadata": {},
   "outputs": [
    {
     "name": "stdout",
     "output_type": "stream",
     "text": [
      "*\n",
      "*\n",
      "*\n",
      "*\n"
     ]
    }
   ],
   "source": [
    "x = 0\n",
    "while True:\n",
    "    print('*')\n",
    "    x+=1\n",
    "    if(x==4):\n",
    "        break"
   ]
  },
  {
   "cell_type": "code",
   "execution_count": 23,
   "metadata": {},
   "outputs": [
    {
     "name": "stdout",
     "output_type": "stream",
     "text": [
      "점수를 입력하세요 : 10\n",
      "성적 : 10\n",
      "등급 : F\n",
      "중지 버튼은 100점 이상 \n",
      "점수를 입력하세요 : 90\n",
      "성적 : 90\n",
      "등급 : A\n",
      "중지 버튼은 100점 이상 \n",
      "점수를 입력하세요 : 95\n",
      "성적 : 95\n",
      "등급 : A\n",
      "중지 버튼은 100점 이상 \n",
      "점수를 입력하세요 : 101\n",
      "성적 : 101\n",
      "등급 : A\n",
      "중지 버튼은 100점 이상 \n"
     ]
    }
   ],
   "source": [
    "while True:\n",
    "    score = int(input(\"점수를 입력하세요 : \"))\n",
    "    if score >= 90 :\n",
    "        grade = 'A'\n",
    "    elif score >= 80 :\n",
    "        grade = 'B'\n",
    "    else :\n",
    "        grade = 'F'\n",
    "    print(\"성적 : %d\" % score)\n",
    "    print(\"등급 : %s\" % grade)\n",
    "    print(\"중지 버튼은 100점 이상 \")\n",
    "    if(score > 100):\n",
    "        break"
   ]
  },
  {
   "cell_type": "code",
   "execution_count": 34,
   "metadata": {},
   "outputs": [
    {
     "name": "stdout",
     "output_type": "stream",
     "text": [
      "시작 수를 입력하세요 : 100\n",
      "끝 수를 입력하세요 : 200\n",
      "--------------------------------------------------\n",
      "100에서 200까지 5의 배수가 아닌 수의 합계 : 12000\n",
      "100에서 200까지 5의 배수가 아닌 수의 합계 : 12000\n"
     ]
    }
   ],
   "source": [
    "s= int(input(\"시작 수를 입력하세요 : \"))\n",
    "e= int(input(\"끝 수를 입력하세요 : \"))\n",
    "sum = 0\n",
    "print('-'*50)\n",
    "for x in range(s,e+1):\n",
    "    if(x%5 != 0):\n",
    "       sum +=x\n",
    "print(\"{}에서 {}까지 5의 배수가 아닌 수의 합계 : {}\" .format(s,e,sum))\n",
    "print(f\"{s}에서 {e}까지 5의 배수가 아닌 수의 합계 : {sum}\")\n",
    "                                        "
   ]
  },
  {
   "cell_type": "code",
   "execution_count": 38,
   "metadata": {},
   "outputs": [
    {
     "name": "stdout",
     "output_type": "stream",
     "text": [
      "서비스 만족도 : \n",
      "1. 매우만족\n",
      "2. 만족\n",
      "3. 불만족\n",
      "서비스 만족도를 입력해주세요(예: 1 또는 2 또는 3 종료는 -2)1\n",
      "음식값을 입력해 주세요(예: 8000)1000\n",
      "\n",
      "서비스 만족도 :매우만족, 팁: 200 \n",
      "\n",
      "서비스 만족도 : \n",
      "1. 매우만족\n",
      "2. 만족\n",
      "3. 불만족\n",
      "서비스 만족도를 입력해주세요(예: 1 또는 2 또는 3 종료는 -2)-2\n",
      "음식값을 입력해 주세요(예: 8000)10\n"
     ]
    }
   ],
   "source": [
    "while True:\n",
    "    print(\"서비스 만족도 : \")\n",
    "    print(\"1. 매우만족\")\n",
    "    print(\"2. 만족\")\n",
    "    print(\"3. 불만족\")\n",
    "    num = int(input(\"서비스 만족도를 입력해주세요(예: 1 또는 2 또는 3 종료는 -2)\"))\n",
    "    price = int(input(\"음식값을 입력해 주세요(예: 8000)\"))\n",
    "\n",
    "    if (num == 1):\n",
    "        tip = int(price*0.2)\n",
    "        sat = \"매우만족\"\n",
    "    elif (num == 2):\n",
    "        tip = int(price*0.1)\n",
    "        sat = \"만족\"\n",
    "    elif (num == 3):\n",
    "        tip = int(price*0.05)\n",
    "        sat = \"불만족\"\n",
    "    elif (num == -2):\n",
    "        break\n",
    "    else:\n",
    "        print (\"만족도를 잘못 입력하셨습니다\")\n",
    "        continue\n",
    "    print()\n",
    "    print(f\"서비스 만족도 :{sat}, 팁: {tip} \")\n",
    "    print()"
   ]
  },
  {
   "cell_type": "code",
   "execution_count": 39,
   "metadata": {},
   "outputs": [
    {
     "data": {
      "text/plain": [
       "'안녕'"
      ]
     },
     "execution_count": 39,
     "metadata": {},
     "output_type": "execute_result"
    }
   ],
   "source": [
    "msg = '안녕세요'\n",
    "msg[:2]"
   ]
  },
  {
   "cell_type": "markdown",
   "metadata": {},
   "source": [
    "for s in range(), '문자열' ... # Iteraable object "
   ]
  },
  {
   "cell_type": "code",
   "execution_count": 43,
   "metadata": {},
   "outputs": [
    {
     "name": "stdout",
     "output_type": "stream",
     "text": [
      "<class 'list'> <class 'list'> <class 'list'>\n"
     ]
    }
   ],
   "source": [
    "fruits = ['사과', '오렌지', '딸기', '포도']\n",
    "list1 = [5, 10.2, '탁구', True, [4,5,6]]\n",
    "numbers = list(range(1,10,2))\n",
    "print(type(fruits), type(list1), type(numbers))"
   ]
  },
  {
   "cell_type": "code",
   "execution_count": 47,
   "metadata": {},
   "outputs": [
    {
     "data": {
      "text/plain": [
       "range"
      ]
     },
     "execution_count": 47,
     "metadata": {},
     "output_type": "execute_result"
    }
   ],
   "source": [
    "a= range(1,10,2)\n",
    "type(a)"
   ]
  },
  {
   "cell_type": "code",
   "execution_count": 52,
   "metadata": {},
   "outputs": [
    {
     "name": "stdout",
     "output_type": "stream",
     "text": [
      "하이픈(-)을 포함한 번호를 입력하세요:010-5555-4569\n",
      "01055554569"
     ]
    }
   ],
   "source": [
    "number = input('하이픈(-)을 포함한 번호를 입력하세요:')\n",
    "\n",
    "for x in (number):\n",
    "    if x != '-':\n",
    "        print('%s' %x, end='')"
   ]
  },
  {
   "cell_type": "code",
   "execution_count": 57,
   "metadata": {},
   "outputs": [
    {
     "name": "stdout",
     "output_type": "stream",
     "text": [
      "하이픈(-)을 포함한 번호를 입력하세요:010-4545-4444\n",
      "['010', '4545', '4444']\n",
      "01045454444\n"
     ]
    }
   ],
   "source": [
    "number = input('하이픈(-)을 포함한 번호를 입력하세요:')\n",
    "if not number:\n",
    "    print(\"전화번호를 입력해야 합니다\")\n",
    "else:\n",
    "    print(number.split('-'))\n",
    "    print(\"\".join(number.split('-')))\n"
   ]
  },
  {
   "cell_type": "code",
   "execution_count": 58,
   "metadata": {},
   "outputs": [
    {
     "name": "stdout",
     "output_type": "stream",
     "text": [
      "1\n"
     ]
    }
   ],
   "source": [
    "list1 = ['a', 'bb', 'c', 'aaa','ddd', 'aa', 'aabb' ]\n",
    "length= list1.count('aa')\n",
    "print(length)"
   ]
  },
  {
   "cell_type": "code",
   "execution_count": 63,
   "metadata": {},
   "outputs": [
    {
     "name": "stdout",
     "output_type": "stream",
     "text": [
      "입력할 * 개수를 정하세요 : 7\n",
      "*******\n",
      "*******\n",
      "*******\n",
      "*******\n",
      "*******\n",
      "*******\n",
      "*******\n"
     ]
    }
   ],
   "source": [
    "num = int(input(\"입력할 * 개수를 정하세요 : \"))\n",
    "for x in range(0,num):\n",
    "    print('*'*num)"
   ]
  },
  {
   "cell_type": "code",
   "execution_count": null,
   "metadata": {},
   "outputs": [],
   "source": [
    "count = 0\n",
    "num = int(input(\"입력할 * 개수를 정하세요 : \"))\n",
    "while True:\n",
    "    print('*'*num)\n",
    "    count += 1\n",
    "    if count == num:\n",
    "        break"
   ]
  },
  {
   "cell_type": "code",
   "execution_count": 16,
   "metadata": {},
   "outputs": [
    {
     "name": "stdout",
     "output_type": "stream",
     "text": [
      "숫자를 입력하세요 : 6\n",
      "666666\n",
      "55555\n",
      "4444\n",
      "333\n",
      "22\n",
      "1\n"
     ]
    }
   ],
   "source": [
    "num = int(input(\"숫자를 입력하세요 : \"))\n",
    "for x in range(num):\n",
    "    for y in range(num,x,-1):\n",
    "        print(f'{num-x}', end=\"\")\n",
    "        #print((num-x),end=\"\")\n",
    "    print()"
   ]
  },
  {
   "cell_type": "code",
   "execution_count": 1,
   "metadata": {},
   "outputs": [
    {
     "name": "stdout",
     "output_type": "stream",
     "text": [
      "숫자를 입력하세요 : 5\n",
      "0 1 2 3 4 "
     ]
    }
   ],
   "source": [
    "num = int(input(\"숫자를 입력하세요 : \"))\n",
    "for x in range(0,num,1):\n",
    "     print(f'{x}', end=\" \")"
   ]
  },
  {
   "cell_type": "code",
   "execution_count": 15,
   "metadata": {},
   "outputs": [
    {
     "data": {
      "text/plain": [
       "['안', '녕', '하', '세', '요']"
      ]
     },
     "execution_count": 15,
     "metadata": {},
     "output_type": "execute_result"
    }
   ],
   "source": [
    "li1 = list(\"안녕하세요\")\n",
    "li1"
   ]
  },
  {
   "cell_type": "code",
   "execution_count": null,
   "metadata": {},
   "outputs": [],
   "source": []
  }
 ],
 "metadata": {
  "kernelspec": {
   "display_name": "Python 3",
   "language": "python",
   "name": "python3"
  },
  "language_info": {
   "codemirror_mode": {
    "name": "ipython",
    "version": 3
   },
   "file_extension": ".py",
   "mimetype": "text/x-python",
   "name": "python",
   "nbconvert_exporter": "python",
   "pygments_lexer": "ipython3",
   "version": "3.6.12"
  }
 },
 "nbformat": 4,
 "nbformat_minor": 4
}
