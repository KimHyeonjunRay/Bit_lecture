{
 "cells": [
  {
   "cell_type": "code",
   "execution_count": 4,
   "metadata": {},
   "outputs": [
    {
     "name": "stdout",
     "output_type": "stream",
     "text": [
      "5문장 이상 입력. 종료는 -1\n"
     ]
    },
    {
     "name": "stdin",
     "output_type": "stream",
     "text": [
      "문장을 입력하세요 :  abc def\n",
      "문장을 입력하세요 :  123 456\n",
      "문장을 입력하세요 :  ab cd ef\n",
      "문장을 입력하세요 :  12 34 56\n",
      "문장을 입력하세요 :  가나 다라\n",
      "문장을 입력하세요 :  -1\n"
     ]
    },
    {
     "name": "stdout",
     "output_type": "stream",
     "text": [
      "입력한 문자의 역순은 : ['fed cba', '654 321', 'fe dc ba', '65 43 21', '라다 나가']\n",
      "단어 개수 : 12,  문자 개수 : 28\n"
     ]
    }
   ],
   "source": [
    "def makeInverseText(tText):\n",
    "    rText = tText.copy()\n",
    "    for i in range(len(tText)):\n",
    "        a= ''.join(reversed(tText[i]))\n",
    "        rText[i] = a\n",
    "    return rText\n",
    "\n",
    "\n",
    "def countWord(invText):\n",
    "    tempCnt = 0\n",
    "    for i in range(len(invText)):\n",
    "        word = invText[i].split()\n",
    "        tempCnt += len(word)\n",
    "\n",
    "    return tempCnt\n",
    "\n",
    "\n",
    "def countAlph(invText):\n",
    "    tempCnt = 0\n",
    "    for i in range(len(invText)):\n",
    "        word = invText[i].split()\n",
    "        alph = ''.join(word)\n",
    "        tempCnt += len(alph)\n",
    "    return tempCnt\n",
    "\n",
    "\n",
    "print(\"5문장 이상 입력. 종료는 -1\")\n",
    "text = []\n",
    "while True:\n",
    "    textTemp = input(\"문장을 입력하세요 : \")\n",
    "    if(textTemp == '-1'):\n",
    "        break\n",
    "    text.append(textTemp)\n",
    "\n",
    "invText = makeInverseText(text)\n",
    "print(f'입력한 문자의 역순은 : {invText}')\n",
    "\n",
    "with open('result', 'w', encoding=\"utf8\") as file:\n",
    "    for i in range(len(invText)):\n",
    "        file.write(invText[i])\n",
    "        if(i != len(invText)):\n",
    "            file.write('\\n')\n",
    "\n",
    "wordNum = countWord(invText)\n",
    "alphNum = countAlph(invText)\n",
    "\n",
    "print(f'단어 개수 : {wordNum},  문자 개수 : {alphNum}')\n"
   ]
  },
  {
   "cell_type": "code",
   "execution_count": null,
   "metadata": {},
   "outputs": [],
   "source": []
  }
 ],
 "metadata": {
  "kernelspec": {
   "display_name": "Python 3",
   "language": "python",
   "name": "python3"
  },
  "language_info": {
   "codemirror_mode": {
    "name": "ipython",
    "version": 3
   },
   "file_extension": ".py",
   "mimetype": "text/x-python",
   "name": "python",
   "nbconvert_exporter": "python",
   "pygments_lexer": "ipython3",
   "version": "3.6.12"
  }
 },
 "nbformat": 4,
 "nbformat_minor": 4
}
