{
 "cells": [
  {
   "cell_type": "markdown",
   "metadata": {},
   "source": [
    "## try: except:  (except는 에러를 받음. 프로그램이 안멈추도록 함)"
   ]
  },
  {
   "cell_type": "code",
   "execution_count": 16,
   "metadata": {},
   "outputs": [
    {
     "name": "stdout",
     "output_type": "stream",
     "text": [
      "0으로 나누면 안되요!\n",
      "1.0\n"
     ]
    }
   ],
   "source": [
    "x=10\n",
    "try:\n",
    "    x/0\n",
    "except:\n",
    "    print(\"0으로 나누면 안되요!\")\n",
    "    print(x/10)"
   ]
  },
  {
   "cell_type": "code",
   "execution_count": 19,
   "metadata": {},
   "outputs": [
    {
     "name": "stdout",
     "output_type": "stream",
     "text": [
      "0으로 나누면 안되요!\n",
      "1.0\n"
     ]
    }
   ],
   "source": [
    "x=10\n",
    "try:\n",
    "    x/0\n",
    "except ZeroDivisionError:\n",
    "    print(\"0으로 나누면 안되요!\")\n",
    "    print(x/10)"
   ]
  },
  {
   "cell_type": "code",
   "execution_count": 25,
   "metadata": {},
   "outputs": [
    {
     "name": "stdout",
     "output_type": "stream",
     "text": [
      "0으로 나누면 안되요!\n",
      "1.0\n"
     ]
    }
   ],
   "source": [
    "x=10\n",
    "try:\n",
    "    print(abc)  #변수 에러까지 except가 다 받아버림\n",
    "    x/0\n",
    "except ZeroDivisionError:\n",
    "    print(\"0으로 나누면 안되요!\")\n",
    "    print(x/10)"
   ]
  },
  {
   "cell_type": "code",
   "execution_count": 27,
   "metadata": {},
   "outputs": [
    {
     "name": "stdout",
     "output_type": "stream",
     "text": [
      "0으로 나누면 안되요!\n",
      "1.0\n"
     ]
    }
   ],
   "source": [
    "## 좋은 방법 X\n",
    "\n",
    "x=10\n",
    "try:\n",
    "    abc  #변수 에러까지 except가 다 받아버림\n",
    "    x/0\n",
    "except (ZeroDivisionError, NameError):\n",
    "    print(\"0으로 나누면 안되요!\")\n",
    "    print(x/10)"
   ]
  },
  {
   "cell_type": "code",
   "execution_count": 28,
   "metadata": {},
   "outputs": [
    {
     "name": "stdout",
     "output_type": "stream",
     "text": [
      "이름을 몰라요\n"
     ]
    }
   ],
   "source": [
    "## 좋은 방법 o\n",
    "\n",
    "x=10\n",
    "try:\n",
    "    abc  #변수 에러까지 except가 다 받아버림\n",
    "    x/0\n",
    "except ZeroDivisionError:\n",
    "    print(\"0으로 나누면 안되요!\")\n",
    "    print(x/10)\n",
    "except NameError:\n",
    "    print(\"이름을 몰라요\")"
   ]
  },
  {
   "cell_type": "markdown",
   "metadata": {},
   "source": [
    "#### 'as' 구문과 함께"
   ]
  },
  {
   "cell_type": "code",
   "execution_count": 32,
   "metadata": {},
   "outputs": [
    {
     "name": "stdout",
     "output_type": "stream",
     "text": [
      " name 'abc' is not defined 이름을 몰라요\n"
     ]
    }
   ],
   "source": [
    "## 좋은 방법 o\n",
    "\n",
    "x=10\n",
    "try:\n",
    "    abc  #변수 에러까지 except가 다 받아버림\n",
    "    x/0\n",
    "except ZeroDivisionError as e:\n",
    "    print(f\" {e} : 0으로 나누면 안되요!\")\n",
    "    print(x/10)\n",
    "except NameError as e:\n",
    "    print(f\" {e} 이름을 몰라요\")"
   ]
  },
  {
   "cell_type": "markdown",
   "metadata": {},
   "source": [
    "### 기본 동작 : try ~ except ~ else"
   ]
  },
  {
   "cell_type": "code",
   "execution_count": 34,
   "metadata": {},
   "outputs": [
    {
     "name": "stdout",
     "output_type": "stream",
     "text": [
      "5.0\n"
     ]
    }
   ],
   "source": [
    "x=10\n",
    "try:\n",
    "    x/1\n",
    "except ZeroDivisionError as e:\n",
    "    print(f\" {e} : 0으로 나누면 안되요!\")\n",
    "else:\n",
    "    print(x/2)"
   ]
  },
  {
   "cell_type": "markdown",
   "metadata": {},
   "source": [
    "### try ~ finally\n",
    "에러와 관계 없이 항상 마지막에 실행되어야 할 경우!"
   ]
  },
  {
   "cell_type": "code",
   "execution_count": 38,
   "metadata": {},
   "outputs": [],
   "source": [
    "file = open('test.py','r')\n",
    "try:\n",
    "    file.readlines()\n",
    "except FileNotFoundError:\n",
    "finally:\n",
    "    file.close()"
   ]
  },
  {
   "cell_type": "code",
   "execution_count": 52,
   "metadata": {},
   "outputs": [
    {
     "name": "stdout",
     "output_type": "stream",
     "text": [
      "aa\n"
     ]
    }
   ],
   "source": [
    "try:\n",
    "    file = open('tttttt.txt','r')\n",
    "    file.readlines()\n",
    "except FileNotFoundError:\n",
    "    pass\n",
    "print('aa')"
   ]
  },
  {
   "cell_type": "markdown",
   "metadata": {},
   "source": [
    "### raise()  \n",
    "강제로 예외상황을 만들 때"
   ]
  },
  {
   "cell_type": "code",
   "execution_count": 50,
   "metadata": {},
   "outputs": [],
   "source": [
    "def operate(X):\n",
    "    #...\n",
    "    raise NotImplementedError\n",
    "    "
   ]
  },
  {
   "cell_type": "code",
   "execution_count": 51,
   "metadata": {},
   "outputs": [
    {
     "ename": "NotImplementedError",
     "evalue": "",
     "output_type": "error",
     "traceback": [
      "\u001b[1;31m---------------------------------------------------------------------------\u001b[0m",
      "\u001b[1;31mNotImplementedError\u001b[0m                       Traceback (most recent call last)",
      "\u001b[1;32m<ipython-input-51-ae588b18ba1a>\u001b[0m in \u001b[0;36m<module>\u001b[1;34m\u001b[0m\n\u001b[1;32m----> 1\u001b[1;33m \u001b[0moperate\u001b[0m\u001b[1;33m(\u001b[0m\u001b[1;36m1000\u001b[0m\u001b[1;33m)\u001b[0m\u001b[1;33m\u001b[0m\u001b[1;33m\u001b[0m\u001b[0m\n\u001b[0m",
      "\u001b[1;32m<ipython-input-50-e64f18fb7528>\u001b[0m in \u001b[0;36moperate\u001b[1;34m(X)\u001b[0m\n\u001b[0;32m      1\u001b[0m \u001b[1;32mdef\u001b[0m \u001b[0moperate\u001b[0m\u001b[1;33m(\u001b[0m\u001b[0mX\u001b[0m\u001b[1;33m)\u001b[0m\u001b[1;33m:\u001b[0m\u001b[1;33m\u001b[0m\u001b[1;33m\u001b[0m\u001b[0m\n\u001b[0;32m      2\u001b[0m     \u001b[1;31m#...\u001b[0m\u001b[1;33m\u001b[0m\u001b[1;33m\u001b[0m\u001b[1;33m\u001b[0m\u001b[0m\n\u001b[1;32m----> 3\u001b[1;33m     \u001b[1;32mraise\u001b[0m \u001b[0mNotImplementedError\u001b[0m\u001b[1;33m\u001b[0m\u001b[1;33m\u001b[0m\u001b[0m\n\u001b[0m\u001b[0;32m      4\u001b[0m \u001b[1;33m\u001b[0m\u001b[0m\n",
      "\u001b[1;31mNotImplementedError\u001b[0m: "
     ]
    }
   ],
   "source": [
    "operate(1000)"
   ]
  },
  {
   "cell_type": "code",
   "execution_count": null,
   "metadata": {},
   "outputs": [],
   "source": []
  }
 ],
 "metadata": {
  "kernelspec": {
   "display_name": "Python 3",
   "language": "python",
   "name": "python3"
  },
  "language_info": {
   "codemirror_mode": {
    "name": "ipython",
    "version": 3
   },
   "file_extension": ".py",
   "mimetype": "text/x-python",
   "name": "python",
   "nbconvert_exporter": "python",
   "pygments_lexer": "ipython3",
   "version": "3.6.12"
  }
 },
 "nbformat": 4,
 "nbformat_minor": 4
}
