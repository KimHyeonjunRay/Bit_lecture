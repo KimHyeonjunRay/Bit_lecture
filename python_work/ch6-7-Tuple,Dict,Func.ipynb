{
 "cells": [
  {
   "cell_type": "code",
   "execution_count": 2,
   "metadata": {},
   "outputs": [
    {
     "data": {
      "text/plain": [
       "{'kor': 85, 'eng': 100, 'math': 90}"
      ]
     },
     "execution_count": 2,
     "metadata": {},
     "output_type": "execute_result"
    }
   ],
   "source": [
    "scores = {\"kor\" : 85, \"eng\" : 100, \"math\" : 90}\n",
    "scores"
   ]
  },
  {
   "cell_type": "code",
   "execution_count": 4,
   "metadata": {},
   "outputs": [
    {
     "data": {
      "text/plain": [
       "dict"
      ]
     },
     "execution_count": 4,
     "metadata": {},
     "output_type": "execute_result"
    }
   ],
   "source": [
    "type(scores)"
   ]
  },
  {
   "cell_type": "code",
   "execution_count": 3,
   "metadata": {},
   "outputs": [
    {
     "data": {
      "text/plain": [
       "'math'"
      ]
     },
     "execution_count": 3,
     "metadata": {},
     "output_type": "execute_result"
    }
   ],
   "source": [
    "max(scores)"
   ]
  },
  {
   "cell_type": "code",
   "execution_count": 5,
   "metadata": {},
   "outputs": [
    {
     "data": {
      "text/plain": [
       "85"
      ]
     },
     "execution_count": 5,
     "metadata": {},
     "output_type": "execute_result"
    }
   ],
   "source": [
    "scores[\"kor\"]"
   ]
  },
  {
   "cell_type": "code",
   "execution_count": 6,
   "metadata": {},
   "outputs": [
    {
     "ename": "KeyError",
     "evalue": "0",
     "output_type": "error",
     "traceback": [
      "\u001b[1;31m---------------------------------------------------------------------------\u001b[0m",
      "\u001b[1;31mKeyError\u001b[0m                                  Traceback (most recent call last)",
      "\u001b[1;32m<ipython-input-6-26d7dd223748>\u001b[0m in \u001b[0;36m<module>\u001b[1;34m\u001b[0m\n\u001b[1;32m----> 1\u001b[1;33m \u001b[0mscores\u001b[0m\u001b[1;33m[\u001b[0m\u001b[1;36m0\u001b[0m\u001b[1;33m]\u001b[0m\u001b[1;33m\u001b[0m\u001b[1;33m\u001b[0m\u001b[0m\n\u001b[0m",
      "\u001b[1;31mKeyError\u001b[0m: 0"
     ]
    }
   ],
   "source": [
    "scores[0]"
   ]
  },
  {
   "cell_type": "code",
   "execution_count": 7,
   "metadata": {},
   "outputs": [],
   "source": [
    "scores[\"kor\"] = 0"
   ]
  },
  {
   "cell_type": "code",
   "execution_count": 8,
   "metadata": {},
   "outputs": [
    {
     "data": {
      "text/plain": [
       "0"
      ]
     },
     "execution_count": 8,
     "metadata": {},
     "output_type": "execute_result"
    }
   ],
   "source": [
    "scores[\"kor\"]"
   ]
  },
  {
   "cell_type": "code",
   "execution_count": 32,
   "metadata": {},
   "outputs": [
    {
     "data": {
      "text/plain": [
       "{'kor': 0, 'eng': 100, 'math': 90, 'test': 100}"
      ]
     },
     "execution_count": 32,
     "metadata": {},
     "output_type": "execute_result"
    }
   ],
   "source": [
    "scores[\"test\"] = 100\n",
    "scores\n",
    "#인덱스 개념이 없으니 삽입은 이렇게 하면 끝. 앞뒤구분이 없음."
   ]
  },
  {
   "cell_type": "code",
   "execution_count": 33,
   "metadata": {},
   "outputs": [
    {
     "data": {
      "text/plain": [
       "{'kor': 0, 'eng': 100, 'math': 90, 'test': {}}"
      ]
     },
     "execution_count": 33,
     "metadata": {},
     "output_type": "execute_result"
    }
   ],
   "source": [
    "scores[\"test\"] = {}\n",
    "scores"
   ]
  },
  {
   "cell_type": "code",
   "execution_count": 34,
   "metadata": {},
   "outputs": [
    {
     "data": {
      "text/plain": [
       "{'kor': 0, 'eng': 100, 'math': 90}"
      ]
     },
     "execution_count": 34,
     "metadata": {},
     "output_type": "execute_result"
    }
   ],
   "source": [
    "del scores[\"test\"]\n",
    "scores"
   ]
  },
  {
   "cell_type": "code",
   "execution_count": 40,
   "metadata": {},
   "outputs": [
    {
     "name": "stdout",
     "output_type": "stream",
     "text": [
      "0 kor 0 0\n",
      "1 eng 100 100\n",
      "2 math 90 90\n"
     ]
    }
   ],
   "source": [
    "#루프테크닉 중 enumerate() & items()\n",
    "for i, key in enumerate(scores) :\n",
    "    print(i, key, scores[key], scores.get(key))"
   ]
  },
  {
   "cell_type": "code",
   "execution_count": 42,
   "metadata": {},
   "outputs": [
    {
     "name": "stdout",
     "output_type": "stream",
     "text": [
      "kor 0\n",
      "eng 100\n",
      "math 90\n"
     ]
    }
   ],
   "source": [
    "for k, v in scores.items():\n",
    "    print(k, v)"
   ]
  },
  {
   "cell_type": "code",
   "execution_count": 43,
   "metadata": {
    "collapsed": true,
    "jupyter": {
     "outputs_hidden": true
    }
   },
   "outputs": [
    {
     "name": "stdout",
     "output_type": "stream",
     "text": [
      "0 1\n",
      "1 abc\n",
      "2 30\n",
      "3 40\n",
      "4 50\n"
     ]
    }
   ],
   "source": [
    "li = ['1', 'abc', 30, 40, 50]\n",
    "for i, k in enumerate(li):\n",
    "    print(i, k)"
   ]
  },
  {
   "cell_type": "code",
   "execution_count": 73,
   "metadata": {},
   "outputs": [
    {
     "data": {
      "text/plain": [
       "<enumerate at 0x1b1527c4d80>"
      ]
     },
     "execution_count": 73,
     "metadata": {},
     "output_type": "execute_result"
    }
   ],
   "source": []
  },
  {
   "cell_type": "code",
   "execution_count": 44,
   "metadata": {},
   "outputs": [
    {
     "data": {
      "text/plain": [
       "dict_keys(['kor', 'eng', 'math'])"
      ]
     },
     "execution_count": 44,
     "metadata": {},
     "output_type": "execute_result"
    }
   ],
   "source": [
    "scores.keys()"
   ]
  },
  {
   "cell_type": "code",
   "execution_count": 45,
   "metadata": {},
   "outputs": [
    {
     "data": {
      "text/plain": [
       "dict_values([0, 100, 90])"
      ]
     },
     "execution_count": 45,
     "metadata": {},
     "output_type": "execute_result"
    }
   ],
   "source": [
    "scores.values()"
   ]
  },
  {
   "cell_type": "code",
   "execution_count": 46,
   "metadata": {},
   "outputs": [
    {
     "data": {
      "text/plain": [
       "dict_items([('kor', 0), ('eng', 100), ('math', 90)])"
      ]
     },
     "execution_count": 46,
     "metadata": {},
     "output_type": "execute_result"
    }
   ],
   "source": [
    "scores.items()"
   ]
  },
  {
   "cell_type": "code",
   "execution_count": 47,
   "metadata": {},
   "outputs": [
    {
     "data": {
      "text/plain": [
       "True"
      ]
     },
     "execution_count": 47,
     "metadata": {},
     "output_type": "execute_result"
    }
   ],
   "source": [
    "'kor' in scores"
   ]
  },
  {
   "cell_type": "code",
   "execution_count": 51,
   "metadata": {},
   "outputs": [
    {
     "data": {
      "text/plain": [
       "False"
      ]
     },
     "execution_count": 51,
     "metadata": {},
     "output_type": "execute_result"
    }
   ],
   "source": [
    "'100' in scores"
   ]
  },
  {
   "cell_type": "code",
   "execution_count": 56,
   "metadata": {},
   "outputs": [],
   "source": [
    "scores.get('k')"
   ]
  },
  {
   "cell_type": "code",
   "execution_count": 57,
   "metadata": {},
   "outputs": [
    {
     "data": {
      "text/plain": [
       "0"
      ]
     },
     "execution_count": 57,
     "metadata": {},
     "output_type": "execute_result"
    }
   ],
   "source": [
    "scores.get('kor')"
   ]
  },
  {
   "cell_type": "code",
   "execution_count": 59,
   "metadata": {},
   "outputs": [
    {
     "name": "stdout",
     "output_type": "stream",
     "text": [
      "OK\n"
     ]
    }
   ],
   "source": [
    "if scores.get('k') ==None:\n",
    "    print('OK')"
   ]
  },
  {
   "cell_type": "code",
   "execution_count": 62,
   "metadata": {},
   "outputs": [
    {
     "name": "stdout",
     "output_type": "stream",
     "text": [
      "아이디 : kim99, 마일리지: 12000점\n",
      "아이디 : lee66, 마일리지: 11000점\n",
      "아이디 : han55, 마일리지: 3000점\n",
      "아이디 : hong77, 마일리지: 5000점\n",
      "아이디 : hwang33, 마일리지: 18000점\n"
     ]
    }
   ],
   "source": [
    "Account = {'kim99' : 12000, 'lee66' : 11000, 'han55' : 3000, 'hong77' : 5000, 'hwang33' : 18000}\n",
    "for key in Account:\n",
    "    print(f'아이디 : {key}, 마일리지: {Account[key]}점')"
   ]
  },
  {
   "cell_type": "code",
   "execution_count": 82,
   "metadata": {},
   "outputs": [
    {
     "name": "stdout",
     "output_type": "stream",
     "text": [
      "han55님의 마일리지가 5000 점으로 수정되었습니다\n"
     ]
    }
   ],
   "source": [
    "Account[\"han55\"] = 5000\n",
    "print(\"han55님의 마일리지가 %d 점으로 수정되었습니다\" %Account[\"han55\"])"
   ]
  },
  {
   "cell_type": "code",
   "execution_count": 83,
   "metadata": {},
   "outputs": [
    {
     "name": "stdout",
     "output_type": "stream",
     "text": [
      "전체 딕셔너리 : {'kim99': 12000, 'lee66': 11000, 'han55': 5000, 'hong77': 5000, 'hwang33': 18000, 'jang88': 7000}\n",
      "jang88님의 마일리지(7000)가 추가 되었습니다.\n"
     ]
    }
   ],
   "source": [
    "Account['jang88'] = 7000\n",
    "print(f\"전체 딕셔너리 : {Account}\")\n",
    "print(\"jang88님의 마일리지({})가 추가 되었습니다.\" .format(Account[\"jang88\"]))"
   ]
  },
  {
   "cell_type": "code",
   "execution_count": 79,
   "metadata": {},
   "outputs": [
    {
     "name": "stdout",
     "output_type": "stream",
     "text": [
      "18000님의 hwang33점이 가장 높은 점수입니다\n"
     ]
    }
   ],
   "source": [
    "maxValue=max(Account.values())\n",
    "for key in Account:\n",
    "    if(Account[key]==maxValue):\n",
    "        maxKey=key\n",
    "print(f'{maxValue}님의 {maxKey}점이 가장 높은 점수입니다')"
   ]
  },
  {
   "cell_type": "code",
   "execution_count": 86,
   "metadata": {},
   "outputs": [],
   "source": [
    "def hello(a,b,c):\n",
    "    print(a,b,c)"
   ]
  },
  {
   "cell_type": "code",
   "execution_count": 87,
   "metadata": {},
   "outputs": [
    {
     "name": "stdout",
     "output_type": "stream",
     "text": [
      "1 1 1.0\n"
     ]
    }
   ],
   "source": [
    "hello(1,\"1\",1.0)"
   ]
  },
  {
   "cell_type": "code",
   "execution_count": 89,
   "metadata": {},
   "outputs": [
    {
     "name": "stdout",
     "output_type": "stream",
     "text": [
      "[1, 2, 3] {'key': 'value'} (2, 3, 4, 5)\n"
     ]
    }
   ],
   "source": [
    "hello([1,2,3],{\"key\":\"value\"},(2,3,4,5))"
   ]
  },
  {
   "cell_type": "code",
   "execution_count": 101,
   "metadata": {},
   "outputs": [
    {
     "name": "stdout",
     "output_type": "stream",
     "text": [
      "메인: x= 1000 ,id= 1861117387120\n",
      "func() : x= 1000 ,id= 1861117388624\n",
      "메인: x= 1000 ,id= 1861117387120\n"
     ]
    }
   ],
   "source": [
    "def func(x):\n",
    "    x = 1000\n",
    "    print('func() : x=', x, ',id=', id(x))\n",
    "\n",
    "x=1000\n",
    "print('메인: x=', x, ',id=', id(x))\n",
    "func(x)\n",
    "print('메인: x=', x, ',id=', id(x))\n"
   ]
  },
  {
   "cell_type": "code",
   "execution_count": 99,
   "metadata": {},
   "outputs": [
    {
     "name": "stdout",
     "output_type": "stream",
     "text": [
      "메인: x= [1, 2, 3, 4, 5, 6, 7, 8, 9, 9, 0, 3, 4, 5, 6, 3, 45, 1, 2, 3, 4, 5, 6, 7, 8, 9, 9, 0, 3, 4, 5, 6, 3, 45, 1, 2, 3, 4, 5, 6, 7, 8, 9, 9, 0, 3, 4, 5, 6, 3, 45, 1, 2, 3, 4, 5, 6, 7, 8, 9, 9, 0, 3, 4, 5, 6, 3, 45, 1, 2, 3, 4, 5, 6, 7, 8, 9, 9, 0, 3, 4, 5, 6, 3, 45, 1, 2, 3, 4, 5, 6, 7, 8, 9, 9, 0, 3, 4, 5, 6, 3, 45, 1, 2, 3, 4, 5, 6, 7, 8, 9, 9, 0, 3, 4, 5, 6, 3, 45, 1, 2, 3, 4, 5, 6, 7, 8, 9, 9, 0, 3, 4, 5, 6, 3, 45, 1, 2, 3, 4, 5, 6, 7, 8, 9, 9, 0, 3, 4, 5, 6, 3, 45, 1, 2, 3, 4, 5, 6, 7, 8, 9, 9, 0, 3, 4, 5, 6, 3, 45, 1, 2, 3, 4, 5, 6, 7, 8, 9, 9, 0, 3, 4, 5, 6, 3, 45, 1, 2, 3, 4, 5, 6, 7, 8, 9, 9, 0, 3, 4, 5, 6, 3, 45] ,\n",
      "id= 1861090585288\n",
      "func() : x= [1000, 2, 3, 4, 5, 6, 7, 8, 9, 9, 0, 3, 4, 5, 6, 3, 45, 1, 2, 3, 4, 5, 6, 7, 8, 9, 9, 0, 3, 4, 5, 6, 3, 45, 1, 2, 3, 4, 5, 6, 7, 8, 9, 9, 0, 3, 4, 5, 6, 3, 45, 1, 2, 3, 4, 5, 6, 7, 8, 9, 9, 0, 3, 4, 5, 6, 3, 45, 1, 2, 3, 4, 5, 6, 7, 8, 9, 9, 0, 3, 4, 5, 6, 3, 45, 1, 2, 3, 4, 5, 6, 7, 8, 9, 9, 0, 3, 4, 5, 6, 3, 45, 1, 2, 3, 4, 5, 6, 7, 8, 9, 9, 0, 3, 4, 5, 6, 3, 45, 1, 2, 3, 4, 5, 6, 7, 8, 9, 9, 0, 3, 4, 5, 6, 3, 45, 1, 2, 3, 4, 5, 6, 7, 8, 9, 9, 0, 3, 4, 5, 6, 3, 45, 1, 2, 3, 4, 5, 6, 7, 8, 9, 9, 0, 3, 4, 5, 6, 3, 45, 1, 2, 3, 4, 5, 6, 7, 8, 9, 9, 0, 3, 4, 5, 6, 3, 45, 1, 2, 3, 4, 5, 6, 7, 8, 9, 9, 0, 3, 4, 5, 6, 3, 45] ,\n",
      "id= 1861090585288\n",
      "메인: x= [1000, 2, 3, 4, 5, 6, 7, 8, 9, 9, 0, 3, 4, 5, 6, 3, 45, 1, 2, 3, 4, 5, 6, 7, 8, 9, 9, 0, 3, 4, 5, 6, 3, 45, 1, 2, 3, 4, 5, 6, 7, 8, 9, 9, 0, 3, 4, 5, 6, 3, 45, 1, 2, 3, 4, 5, 6, 7, 8, 9, 9, 0, 3, 4, 5, 6, 3, 45, 1, 2, 3, 4, 5, 6, 7, 8, 9, 9, 0, 3, 4, 5, 6, 3, 45, 1, 2, 3, 4, 5, 6, 7, 8, 9, 9, 0, 3, 4, 5, 6, 3, 45, 1, 2, 3, 4, 5, 6, 7, 8, 9, 9, 0, 3, 4, 5, 6, 3, 45, 1, 2, 3, 4, 5, 6, 7, 8, 9, 9, 0, 3, 4, 5, 6, 3, 45, 1, 2, 3, 4, 5, 6, 7, 8, 9, 9, 0, 3, 4, 5, 6, 3, 45, 1, 2, 3, 4, 5, 6, 7, 8, 9, 9, 0, 3, 4, 5, 6, 3, 45, 1, 2, 3, 4, 5, 6, 7, 8, 9, 9, 0, 3, 4, 5, 6, 3, 45, 1, 2, 3, 4, 5, 6, 7, 8, 9, 9, 0, 3, 4, 5, 6, 3, 45] ,\n",
      "id= 1861090585288\n"
     ]
    }
   ],
   "source": [
    "def func(x):\n",
    "    x[0] = 1000\n",
    "    print('func() : x=', x, ',\\nid=', id(x))\n",
    "\n",
    "x=[1,2,3,4,5,6,7,8,9,9,0,3,4,5,6,3,45]\n",
    "x= x*12\n",
    "print('메인: x=', x, ',\\nid=', id(x))\n",
    "func(x)\n",
    "print('메인: x=', x, ',\\nid=', id(x))"
   ]
  },
  {
   "cell_type": "code",
   "execution_count": 102,
   "metadata": {},
   "outputs": [],
   "source": [
    "def func():\n",
    "    return"
   ]
  },
  {
   "cell_type": "code",
   "execution_count": 103,
   "metadata": {},
   "outputs": [],
   "source": [
    "def func():\n",
    "    return 1111"
   ]
  },
  {
   "cell_type": "code",
   "execution_count": 105,
   "metadata": {},
   "outputs": [],
   "source": [
    "def func():\n",
    "    return 1,2,3,4,5,6"
   ]
  },
  {
   "cell_type": "code",
   "execution_count": 104,
   "metadata": {},
   "outputs": [],
   "source": [
    "def func():\n",
    "    if x<0:\n",
    "        return None\n",
    "    else :\n",
    "        #todo..\n",
    "        pass"
   ]
  },
  {
   "cell_type": "code",
   "execution_count": 106,
   "metadata": {},
   "outputs": [],
   "source": [
    "def func():\n",
    "    return func"
   ]
  },
  {
   "cell_type": "code",
   "execution_count": 138,
   "metadata": {},
   "outputs": [
    {
     "name": "stdout",
     "output_type": "stream",
     "text": [
      "메인: x= [1000, 100, 1] ,id= 1861105509192\n",
      "func() : x= [10, -2, 1] ,id= 1861105509192\n",
      "메인: x= [10, -2, 1] ,id= 1861105509192\n"
     ]
    },
    {
     "data": {
      "text/plain": [
       "1000"
      ]
     },
     "execution_count": 138,
     "metadata": {},
     "output_type": "execute_result"
    }
   ],
   "source": [
    "def func(x):\n",
    "    x[0] =10\n",
    "    li[1] = -2\n",
    "    print('func() : x=', x, ',id=', id(x))\n",
    "\n",
    "x=1000\n",
    "y=100\n",
    "z=1\n",
    "li= [x,y,z]\n",
    "print('메인: x=', li, ',id=', id(li))\n",
    "func(li)\n",
    "print('메인: x=', li, ',id=', id(li))\n",
    "x"
   ]
  },
  {
   "cell_type": "code",
   "execution_count": 157,
   "metadata": {},
   "outputs": [],
   "source": [
    "def func2():\n",
    "    p=258\n",
    "    print(id(p))\n",
    "    p=300\n",
    "    print(id(p))\n",
    "    if 10>1:\n",
    "        p=259\n",
    "        print(id(p))\n",
    "    print(id(p))\n",
    "        "
   ]
  },
  {
   "cell_type": "code",
   "execution_count": 158,
   "metadata": {},
   "outputs": [
    {
     "name": "stdout",
     "output_type": "stream",
     "text": [
      "1861107571024\n",
      "1861107571056\n",
      "1861107571184\n",
      "1861107571184\n"
     ]
    }
   ],
   "source": [
    "func2()"
   ]
  },
  {
   "cell_type": "code",
   "execution_count": 122,
   "metadata": {},
   "outputs": [
    {
     "name": "stdout",
     "output_type": "stream",
     "text": [
      "1000\n",
      "1861107572048\n",
      "1000\n",
      "1861107572048\n"
     ]
    }
   ],
   "source": [
    "def func():\n",
    "    print(x)\n",
    "    print(id(x))\n",
    "x=1000\n",
    "print(x)\n",
    "print(id(x))\n",
    "func()"
   ]
  },
  {
   "cell_type": "code",
   "execution_count": 125,
   "metadata": {},
   "outputs": [
    {
     "name": "stdout",
     "output_type": "stream",
     "text": [
      "10000\n",
      "1861107572016\n",
      "100000\n",
      "1861107572048\n",
      "100000\n",
      "1861107572048\n"
     ]
    }
   ],
   "source": [
    "def func():\n",
    "    global x\n",
    "    x = 100000\n",
    "    print(x)\n",
    "    print(id(x))\n",
    "    \n",
    "x= 10000\n",
    "print(x)\n",
    "print(id(x))\n",
    "func()\n",
    "print(x)\n",
    "print(id(x))"
   ]
  },
  {
   "cell_type": "code",
   "execution_count": null,
   "metadata": {},
   "outputs": [],
   "source": []
  },
  {
   "cell_type": "code",
   "execution_count": null,
   "metadata": {},
   "outputs": [],
   "source": []
  },
  {
   "cell_type": "code",
   "execution_count": null,
   "metadata": {},
   "outputs": [],
   "source": []
  },
  {
   "cell_type": "code",
   "execution_count": null,
   "metadata": {},
   "outputs": [],
   "source": []
  },
  {
   "cell_type": "code",
   "execution_count": 172,
   "metadata": {},
   "outputs": [
    {
     "name": "stdin",
     "output_type": "stream",
     "text": [
      "영문 대소문자, 숫자를 최대 15자리 까지 아무거나 입력하세요 :  sada\n",
      "영문 대소문자, 숫자를 최대 15자리 까지 아무거나 입력하세요 :  dasda\n",
      "영문 대소문자, 숫자를 최대 15자리 까지 아무거나 입력하세요 :  fasfa\n",
      "영문 대소문자, 숫자를 최대 15자리 까지 아무거나 입력하세요 :  dasd\n",
      "영문 대소문자, 숫자를 최대 15자리 까지 아무거나 입력하세요 :  asd\n"
     ]
    },
    {
     "data": {
      "text/plain": [
       "['a', 's', 'd']"
      ]
     },
     "execution_count": 172,
     "metadata": {},
     "output_type": "execute_result"
    }
   ],
   "source": [
    "\n",
    "input1 = list('abcde')\n",
    "for i in range(5):\n",
    "    input1[i] = input(\"영문 대소문자, 숫자를 최대 15자리 까지 아무거나 입력하세요 : \")\n",
    "\n",
    "\n",
    "for i in range(5):\n",
    "    data=list(input1[i])\n",
    "data\n",
    " "
   ]
  },
  {
   "cell_type": "code",
   "execution_count": 1,
   "metadata": {},
   "outputs": [
    {
     "name": "stdout",
     "output_type": "stream",
     "text": [
      "20,10\n"
     ]
    }
   ],
   "source": [
    "def f1(a) :\n",
    "    a += 10\n",
    "    print(a, end=',')\n",
    "    \n",
    "a = 10\n",
    "f1(a)\n",
    "print(a)"
   ]
  },
  {
   "cell_type": "code",
   "execution_count": 9,
   "metadata": {},
   "outputs": [
    {
     "name": "stdout",
     "output_type": "stream",
     "text": [
      "2141242650576\n",
      "2141242650576\n",
      "2141242650480\n",
      "400, 100, 400\n",
      "2141242650480\n"
     ]
    }
   ],
   "source": [
    "def f2(a) :\n",
    "    global y\n",
    "    print(id(y))\n",
    "    y += a\n",
    "    print(id(y))\n",
    "    x = 500\n",
    "    print(y, end=', ')\n",
    "    \n",
    "x = 100\n",
    "y = 300\n",
    "print(id(y))\n",
    "f2(x)\n",
    "print(x, end=', ')\n",
    "print(y)\n",
    "print(id(y))"
   ]
  },
  {
   "cell_type": "code",
   "execution_count": null,
   "metadata": {},
   "outputs": [],
   "source": [
    "def minmultiple(x, y):\n",
    "    if x > y :\n",
    "        big = x\n",
    "    else:\n",
    "        big = y\n",
    "\n",
    "    while(True):\n",
    "        if((big % x == 0) and (big % y == 0)):\n",
    "            result = big\n",
    "            break\n",
    "        big = big + 1\n",
    "\n",
    "    return result\n",
    "\n",
    "num1 = int(input(\"첫 번째 수를 입력하세요: \"))\n",
    "num2 = int(input(\"두 번째 수를 입력하세요: \"))\n",
    "\n",
    "min_gong = minmultiple(num1, num2)\n",
    "\n",
    "print('%d와 %d의 최소공배수 : %d' % (num1, num2, min_gong))"
   ]
  },
  {
   "cell_type": "code",
   "execution_count": 5,
   "metadata": {},
   "outputs": [
    {
     "name": "stdin",
     "output_type": "stream",
     "text": [
      "1번째 문자열을 입력하세요 abcde\n",
      "2번째 문자열을 입력하세요 123456\n",
      "3번째 문자열을 입력하세요 ABC\n",
      "4번째 문자열을 입력하세요 abcdefghijk\n",
      "5번째 문자열을 입력하세요 123456789\n"
     ]
    },
    {
     "name": "stdout",
     "output_type": "stream",
     "text": [
      "a1Aa1b2Bb2c3Cc3d4d4e5e56f6g7h8i9jk\n"
     ]
    }
   ],
   "source": [
    "\n",
    "play = [[],[],[],[],[]]\n",
    "string=[]\n",
    "i=0\n",
    "\n",
    "while i < 5:\n",
    "    temp = input(\"%s번째 문자열을 입력하세요\" %(i+1))\n",
    "    if len(temp) > 15:\n",
    "        print(\"너무 많이 입력하셨습니다. 다시 입력해주세요\")\n",
    "        break\n",
    "    string.append(temp)\n",
    "    i += 1\n",
    "\n",
    "for j in range(5):\n",
    "    count = 0\n",
    "    for i in string[j]:\n",
    "            play[j].append(i)\n",
    "            count += 1\n",
    "    for i in range(15-count):\n",
    "        play[j].append('')\n",
    "                 \n",
    "play_print=''\n",
    "\n",
    "for j in range(15):\n",
    "    for i in range(5):\n",
    "        play_print= play_print + play[i][j]\n",
    "        \n",
    "print(play_print)"
   ]
  },
  {
   "cell_type": "code",
   "execution_count": 37,
   "metadata": {},
   "outputs": [
    {
     "data": {
      "text/plain": [
       "<_io.TextIOWrapper name='sample.txt' mode='w' encoding='utf8'>"
      ]
     },
     "execution_count": 37,
     "metadata": {},
     "output_type": "execute_result"
    }
   ],
   "source": [
    "file = open('sample.txt', 'w', encoding='utf8')\n",
    "file"
   ]
  },
  {
   "cell_type": "code",
   "execution_count": 38,
   "metadata": {},
   "outputs": [
    {
     "data": {
      "text/plain": [
       "_io.TextIOWrapper"
      ]
     },
     "execution_count": 38,
     "metadata": {},
     "output_type": "execute_result"
    }
   ],
   "source": [
    "type(file)"
   ]
  },
  {
   "cell_type": "code",
   "execution_count": 39,
   "metadata": {},
   "outputs": [],
   "source": [
    "file.write('하이하이\\n')\n",
    "file.write('한줄 더 써보자 으쌰으쌰\\n')\n",
    "file.close()"
   ]
  },
  {
   "cell_type": "code",
   "execution_count": 54,
   "metadata": {},
   "outputs": [],
   "source": [
    "file = open('sample.txt', 'r', encoding='utf8')"
   ]
  },
  {
   "cell_type": "code",
   "execution_count": 55,
   "metadata": {},
   "outputs": [
    {
     "data": {
      "text/plain": [
       "'하이하이\\n'"
      ]
     },
     "execution_count": 55,
     "metadata": {},
     "output_type": "execute_result"
    }
   ],
   "source": [
    "lines = file.readlines()\n",
    "lines"
   ]
  },
  {
   "cell_type": "code",
   "execution_count": 56,
   "metadata": {},
   "outputs": [
    {
     "name": "stdout",
     "output_type": "stream",
     "text": [
      "하1\n",
      "이1\n",
      "하1\n",
      "이1\n",
      "\n",
      "1\n"
     ]
    }
   ],
   "source": [
    "for line in lines:\n",
    "    print(line, end=\"\")\n",
    "    print(len(line))"
   ]
  },
  {
   "cell_type": "code",
   "execution_count": 57,
   "metadata": {},
   "outputs": [
    {
     "name": "stdout",
     "output_type": "stream",
     "text": [
      "1\n"
     ]
    }
   ],
   "source": [
    "print(len(line))"
   ]
  },
  {
   "cell_type": "code",
   "execution_count": 58,
   "metadata": {},
   "outputs": [],
   "source": [
    "file.close()"
   ]
  },
  {
   "cell_type": "code",
   "execution_count": 50,
   "metadata": {},
   "outputs": [
    {
     "data": {
      "text/plain": [
       "<function TextIOWrapper.close()>"
      ]
     },
     "execution_count": 50,
     "metadata": {},
     "output_type": "execute_result"
    }
   ],
   "source": [
    "file =open('sample.txt', 'a', encoding='utf8')\n",
    "file.write('추가해봅세\\n')\n",
    "file.close()"
   ]
  },
  {
   "cell_type": "code",
   "execution_count": 52,
   "metadata": {},
   "outputs": [],
   "source": [
    "file =open('sample2.txt', 'a', encoding='utf8')\n",
    "file.write('새 파일로 어펜드')\n",
    "file.close()"
   ]
  },
  {
   "cell_type": "code",
   "execution_count": 53,
   "metadata": {},
   "outputs": [
    {
     "ename": "FileExistsError",
     "evalue": "[Errno 17] File exists: 'sample2.txt'",
     "output_type": "error",
     "traceback": [
      "\u001b[1;31m---------------------------------------------------------------------------\u001b[0m",
      "\u001b[1;31mFileExistsError\u001b[0m                           Traceback (most recent call last)",
      "\u001b[1;32m<ipython-input-53-ea151eb79281>\u001b[0m in \u001b[0;36m<module>\u001b[1;34m\u001b[0m\n\u001b[1;32m----> 1\u001b[1;33m \u001b[0mfile\u001b[0m \u001b[1;33m=\u001b[0m\u001b[0mopen\u001b[0m\u001b[1;33m(\u001b[0m\u001b[1;34m'sample2.txt'\u001b[0m\u001b[1;33m,\u001b[0m \u001b[1;34m'x'\u001b[0m\u001b[1;33m,\u001b[0m \u001b[0mencoding\u001b[0m\u001b[1;33m=\u001b[0m\u001b[1;34m'utf8'\u001b[0m\u001b[1;33m)\u001b[0m\u001b[1;33m\u001b[0m\u001b[1;33m\u001b[0m\u001b[0m\n\u001b[0m\u001b[0;32m      2\u001b[0m \u001b[0mfile\u001b[0m\u001b[1;33m.\u001b[0m\u001b[0mwrite\u001b[0m\u001b[1;33m(\u001b[0m\u001b[1;34m'새 파일로 어펜드'\u001b[0m\u001b[1;33m)\u001b[0m\u001b[1;33m\u001b[0m\u001b[1;33m\u001b[0m\u001b[0m\n\u001b[0;32m      3\u001b[0m \u001b[0mfile\u001b[0m\u001b[1;33m.\u001b[0m\u001b[0mclose\u001b[0m\u001b[1;33m(\u001b[0m\u001b[1;33m)\u001b[0m\u001b[1;33m\u001b[0m\u001b[1;33m\u001b[0m\u001b[0m\n",
      "\u001b[1;31mFileExistsError\u001b[0m: [Errno 17] File exists: 'sample2.txt'"
     ]
    }
   ],
   "source": [
    "file =open('sample2.txt', 'x', encoding='utf8')\n",
    "file.write('새 파일로 어펜드')\n",
    "file.close()"
   ]
  },
  {
   "cell_type": "code",
   "execution_count": 61,
   "metadata": {},
   "outputs": [
    {
     "name": "stdout",
     "output_type": "stream",
     "text": [
      "하이하이한줄 더 써보자 으쌰으쌰추가해봅세추가해봅세"
     ]
    }
   ],
   "source": [
    "file = open('sample.txt', 'r', encoding='utf8')\n",
    "\n",
    "while True:\n",
    "    line = file.readline()\n",
    "    if not line:\n",
    "        break\n",
    "    line = line.strip()\n",
    "    print(line, end='')\n",
    "file.close()"
   ]
  },
  {
   "cell_type": "code",
   "execution_count": 67,
   "metadata": {},
   "outputs": [
    {
     "name": "stdout",
     "output_type": "stream",
     "text": [
      "하이하이\n",
      "한줄 더 써보자 으쌰으쌰\n",
      "추가해봅세\n",
      "추가해봅세\n"
     ]
    }
   ],
   "source": [
    "#with ... as 구문 사용하기 ( 자원을 한정적으로 사용하기 위해 씀. 해당 블록이 끝나면 자동으로 닫힘)\n",
    "with open('sample.txt', 'r', encoding='utf8') as file:\n",
    "    while True:\n",
    "        line = file.readline()\n",
    "        if not line:\n",
    "            break\n",
    "        #line = line.strip()\n",
    "        print(line, end='')\n",
    "#file.close()"
   ]
  },
  {
   "cell_type": "code",
   "execution_count": 86,
   "metadata": {},
   "outputs": [
    {
     "name": "stdout",
     "output_type": "stream",
     "text": [
      "1\n",
      "3\n",
      "5\n",
      "7\n",
      "9\n",
      "11\n",
      "13\n",
      "15\n",
      "17\n",
      "19\n",
      "21\n",
      "23\n",
      "25\n",
      "27\n",
      "29\n"
     ]
    }
   ],
   "source": [
    "file = open('odd_number.txt', 'w', encoding='utf8')\n",
    "li = []\n",
    "for i in range(30):\n",
    "    if i % 2 == 1:\n",
    "        file.write(str(i))\n",
    "        file.write('\\n')\n",
    "file.close()\n",
    "\n",
    "file = open('odd_number.txt', 'r', encoding='utf8')\n",
    "while True:\n",
    "    line = file.readline()\n",
    "    print(line, end='')\n",
    "    if not line:\n",
    "        break\n",
    "file.close()"
   ]
  },
  {
   "cell_type": "code",
   "execution_count": 89,
   "metadata": {},
   "outputs": [
    {
     "name": "stdout",
     "output_type": "stream",
     "text": [
      "0\n",
      "2\n",
      "4\n",
      "6\n",
      "8\n",
      "10\n",
      "12\n",
      "14\n",
      "16\n",
      "18\n",
      "20\n",
      "22\n",
      "24\n",
      "26\n",
      "28\n"
     ]
    }
   ],
   "source": [
    "with open('odd_number.txt', 'w', encoding='utf8') as file:\n",
    "    li = []\n",
    "    for i in range(30):\n",
    "        if i % 2 == 0:\n",
    "            file.write('%d\\n' %i)\n",
    "\n",
    "\n",
    "with open('odd_number.txt', 'r', encoding='utf8') as file:\n",
    "    while True:\n",
    "        line = file.readline()\n",
    "        print(line, end='')\n",
    "        if not line:\n",
    "            break\n"
   ]
  },
  {
   "cell_type": "code",
   "execution_count": 109,
   "metadata": {},
   "outputs": [
    {
     "name": "stdout",
     "output_type": "stream",
     "text": [
      "<class 'str'>\n",
      "<class 'str'>\n",
      "<class 'str'>\n",
      "<class 'str'>\n",
      "<class 'str'>\n",
      "7\n"
     ]
    }
   ],
   "source": [
    "count = 0\n",
    "with open('sample.txt', 'r', encoding='utf8') as file:\n",
    "    while True:\n",
    "        line = file.readline()\n",
    "        ptype(line)\n",
    "        word=line.split()\n",
    "      #  print(f'{word}, {len(word)}')\n",
    "        count += len(word)\n",
    "       # print(f'{count}')\n",
    "        if not line:\n",
    "            break\n",
    "print('%d'%count)"
   ]
  },
  {
   "cell_type": "code",
   "execution_count": null,
   "metadata": {},
   "outputs": [],
   "source": []
  },
  {
   "cell_type": "code",
   "execution_count": 113,
   "metadata": {},
   "outputs": [],
   "source": [
    "with open('text_cp949.txt', 'w', encoding='cp949') as file:\n",
    "    for i in range(1,10):\n",
    "        file.write(f'{i} 번째 라인입니다\\n')\n",
    "        "
   ]
  },
  {
   "cell_type": "code",
   "execution_count": 114,
   "metadata": {},
   "outputs": [],
   "source": [
    "with open('text_utf8.txt', 'w', encoding='utf8') as file:\n",
    "    for i in range(1,10):\n",
    "        file.write(f'{i} 번째 라인입니다\\n')"
   ]
  },
  {
   "cell_type": "code",
   "execution_count": 121,
   "metadata": {},
   "outputs": [
    {
     "ename": "UnicodeDecodeError",
     "evalue": "'utf-8' codec can't decode byte 0xb9 in position 2: invalid start byte",
     "output_type": "error",
     "traceback": [
      "\u001b[1;31m---------------------------------------------------------------------------\u001b[0m",
      "\u001b[1;31mUnicodeDecodeError\u001b[0m                        Traceback (most recent call last)",
      "\u001b[1;32m<ipython-input-121-3bede6914227>\u001b[0m in \u001b[0;36m<module>\u001b[1;34m\u001b[0m\n\u001b[0;32m      1\u001b[0m \u001b[1;32mwith\u001b[0m \u001b[0mopen\u001b[0m\u001b[1;33m(\u001b[0m\u001b[1;34m'text_cp949.txt'\u001b[0m\u001b[1;33m,\u001b[0m \u001b[1;34m'r'\u001b[0m\u001b[1;33m,\u001b[0m \u001b[0mencoding\u001b[0m\u001b[1;33m=\u001b[0m\u001b[1;34m'utf8'\u001b[0m\u001b[1;33m)\u001b[0m \u001b[1;32mas\u001b[0m \u001b[0mfile\u001b[0m\u001b[1;33m:\u001b[0m\u001b[1;33m\u001b[0m\u001b[1;33m\u001b[0m\u001b[0m\n\u001b[1;32m----> 2\u001b[1;33m     \u001b[0mlines\u001b[0m \u001b[1;33m=\u001b[0m \u001b[0mfile\u001b[0m\u001b[1;33m.\u001b[0m\u001b[0mreadlines\u001b[0m\u001b[1;33m(\u001b[0m\u001b[1;33m)\u001b[0m\u001b[1;33m\u001b[0m\u001b[1;33m\u001b[0m\u001b[0m\n\u001b[0m\u001b[0;32m      3\u001b[0m \u001b[0mprint\u001b[0m\u001b[1;33m(\u001b[0m\u001b[0mlines\u001b[0m\u001b[1;33m)\u001b[0m\u001b[1;33m\u001b[0m\u001b[1;33m\u001b[0m\u001b[0m\n",
      "\u001b[1;32m~\\.conda\\envs\\python36\\lib\\codecs.py\u001b[0m in \u001b[0;36mdecode\u001b[1;34m(self, input, final)\u001b[0m\n\u001b[0;32m    319\u001b[0m         \u001b[1;31m# decode input (taking the buffer into account)\u001b[0m\u001b[1;33m\u001b[0m\u001b[1;33m\u001b[0m\u001b[1;33m\u001b[0m\u001b[0m\n\u001b[0;32m    320\u001b[0m         \u001b[0mdata\u001b[0m \u001b[1;33m=\u001b[0m \u001b[0mself\u001b[0m\u001b[1;33m.\u001b[0m\u001b[0mbuffer\u001b[0m \u001b[1;33m+\u001b[0m \u001b[0minput\u001b[0m\u001b[1;33m\u001b[0m\u001b[1;33m\u001b[0m\u001b[0m\n\u001b[1;32m--> 321\u001b[1;33m         \u001b[1;33m(\u001b[0m\u001b[0mresult\u001b[0m\u001b[1;33m,\u001b[0m \u001b[0mconsumed\u001b[0m\u001b[1;33m)\u001b[0m \u001b[1;33m=\u001b[0m \u001b[0mself\u001b[0m\u001b[1;33m.\u001b[0m\u001b[0m_buffer_decode\u001b[0m\u001b[1;33m(\u001b[0m\u001b[0mdata\u001b[0m\u001b[1;33m,\u001b[0m \u001b[0mself\u001b[0m\u001b[1;33m.\u001b[0m\u001b[0merrors\u001b[0m\u001b[1;33m,\u001b[0m \u001b[0mfinal\u001b[0m\u001b[1;33m)\u001b[0m\u001b[1;33m\u001b[0m\u001b[1;33m\u001b[0m\u001b[0m\n\u001b[0m\u001b[0;32m    322\u001b[0m         \u001b[1;31m# keep undecoded input until the next call\u001b[0m\u001b[1;33m\u001b[0m\u001b[1;33m\u001b[0m\u001b[1;33m\u001b[0m\u001b[0m\n\u001b[0;32m    323\u001b[0m         \u001b[0mself\u001b[0m\u001b[1;33m.\u001b[0m\u001b[0mbuffer\u001b[0m \u001b[1;33m=\u001b[0m \u001b[0mdata\u001b[0m\u001b[1;33m[\u001b[0m\u001b[0mconsumed\u001b[0m\u001b[1;33m:\u001b[0m\u001b[1;33m]\u001b[0m\u001b[1;33m\u001b[0m\u001b[1;33m\u001b[0m\u001b[0m\n",
      "\u001b[1;31mUnicodeDecodeError\u001b[0m: 'utf-8' codec can't decode byte 0xb9 in position 2: invalid start byte"
     ]
    }
   ],
   "source": [
    "with open('text_cp949.txt', 'r', encoding='utf8') as file:\n",
    "    lines = file.readlines()\n",
    "print(lines)"
   ]
  },
  {
   "cell_type": "code",
   "execution_count": 120,
   "metadata": {},
   "outputs": [
    {
     "ename": "UnicodeDecodeError",
     "evalue": "'cp949' codec can't decode byte 0xeb in position 9: illegal multibyte sequence",
     "output_type": "error",
     "traceback": [
      "\u001b[1;31m---------------------------------------------------------------------------\u001b[0m",
      "\u001b[1;31mUnicodeDecodeError\u001b[0m                        Traceback (most recent call last)",
      "\u001b[1;32m<ipython-input-120-96522bcb1f32>\u001b[0m in \u001b[0;36m<module>\u001b[1;34m\u001b[0m\n\u001b[0;32m      1\u001b[0m \u001b[1;32mwith\u001b[0m \u001b[0mopen\u001b[0m\u001b[1;33m(\u001b[0m\u001b[1;34m'text_utf8.txt'\u001b[0m\u001b[1;33m,\u001b[0m \u001b[1;34m'r'\u001b[0m\u001b[1;33m,\u001b[0m \u001b[0mencoding\u001b[0m\u001b[1;33m=\u001b[0m\u001b[1;34m'cp949'\u001b[0m\u001b[1;33m)\u001b[0m \u001b[1;32mas\u001b[0m \u001b[0mfile\u001b[0m\u001b[1;33m:\u001b[0m\u001b[1;33m\u001b[0m\u001b[1;33m\u001b[0m\u001b[0m\n\u001b[1;32m----> 2\u001b[1;33m     \u001b[0mlines\u001b[0m \u001b[1;33m=\u001b[0m \u001b[0mfile\u001b[0m\u001b[1;33m.\u001b[0m\u001b[0mreadlines\u001b[0m\u001b[1;33m(\u001b[0m\u001b[1;33m)\u001b[0m\u001b[1;33m\u001b[0m\u001b[1;33m\u001b[0m\u001b[0m\n\u001b[0m\u001b[0;32m      3\u001b[0m \u001b[0mprint\u001b[0m\u001b[1;33m(\u001b[0m\u001b[0mlines\u001b[0m\u001b[1;33m)\u001b[0m\u001b[1;33m\u001b[0m\u001b[1;33m\u001b[0m\u001b[0m\n",
      "\u001b[1;31mUnicodeDecodeError\u001b[0m: 'cp949' codec can't decode byte 0xeb in position 9: illegal multibyte sequence"
     ]
    }
   ],
   "source": [
    "with open('text_utf8.txt', 'r', encoding='cp949') as file:\n",
    "    lines = file.readlines()\n",
    "print(lines)"
   ]
  },
  {
   "cell_type": "markdown",
   "metadata": {},
   "source": [
    "## 바이너리모드"
   ]
  },
  {
   "cell_type": "code",
   "execution_count": 123,
   "metadata": {},
   "outputs": [],
   "source": [
    "with open('test.bin', 'wb') as file:\n",
    "    for i in range(0,256):\n",
    "        data = i.to_bytes(1, 'little')\n",
    "        file.write(data)"
   ]
  },
  {
   "cell_type": "code",
   "execution_count": 126,
   "metadata": {},
   "outputs": [
    {
     "name": "stdout",
     "output_type": "stream",
     "text": [
      "b'\\x00\\x01\\x02\\x03\\x04\\x05\\x06\\x07\\x08\\t\\n\\x0b\\x0c\\r\\x0e\\x0f\\x10\\x11\\x12\\x13\\x14\\x15\\x16\\x17\\x18\\x19\\x1a\\x1b\\x1c\\x1d\\x1e\\x1f !\"#$%&\\'()*+,-./0123456789:;<=>?@ABCDEFGHIJKLMNOPQRSTUVWXYZ[\\\\]^_`abcdefghijklmnopqrstuvwxyz{|}~\\x7f\\x80\\x81\\x82\\x83\\x84\\x85\\x86\\x87\\x88\\x89\\x8a\\x8b\\x8c\\x8d\\x8e\\x8f\\x90\\x91\\x92\\x93\\x94\\x95\\x96\\x97\\x98\\x99\\x9a\\x9b\\x9c\\x9d\\x9e\\x9f\\xa0\\xa1\\xa2\\xa3\\xa4\\xa5\\xa6\\xa7\\xa8\\xa9\\xaa\\xab\\xac\\xad\\xae\\xaf\\xb0\\xb1\\xb2\\xb3\\xb4\\xb5\\xb6\\xb7\\xb8\\xb9\\xba\\xbb\\xbc\\xbd\\xbe\\xbf\\xc0\\xc1\\xc2\\xc3\\xc4\\xc5\\xc6\\xc7\\xc8\\xc9\\xca\\xcb\\xcc\\xcd\\xce\\xcf\\xd0\\xd1\\xd2\\xd3\\xd4\\xd5\\xd6\\xd7\\xd8\\xd9\\xda\\xdb\\xdc\\xdd\\xde\\xdf\\xe0\\xe1\\xe2\\xe3\\xe4\\xe5\\xe6\\xe7\\xe8\\xe9\\xea\\xeb\\xec\\xed\\xee\\xef\\xf0\\xf1\\xf2\\xf3\\xf4\\xf5\\xf6\\xf7\\xf8\\xf9\\xfa\\xfb\\xfc\\xfd\\xfe\\xff'\n"
     ]
    }
   ],
   "source": [
    "with open(\"test.bin\", 'rb') as file:\n",
    "    print(file.read())"
   ]
  },
  {
   "cell_type": "code",
   "execution_count": 127,
   "metadata": {},
   "outputs": [
    {
     "name": "stdout",
     "output_type": "stream",
     "text": [
      "218360\n"
     ]
    }
   ],
   "source": [
    "with open('image.png', 'rb') as file:\n",
    "    data = file.read()\n",
    "print(len(data))"
   ]
  },
  {
   "cell_type": "code",
   "execution_count": 128,
   "metadata": {},
   "outputs": [],
   "source": [
    "with open('imageCpy.png', 'wb') as file:\n",
    "    file.write(data)"
   ]
  },
  {
   "cell_type": "code",
   "execution_count": 148,
   "metadata": {},
   "outputs": [
    {
     "name": "stdout",
     "output_type": "stream",
     "text": [
      "218357\n"
     ]
    }
   ],
   "source": [
    "with open('image.png', 'r', encoding='iso8859') as file:\n",
    "    data = file.read()\n",
    "print(len(data))"
   ]
  },
  {
   "cell_type": "code",
   "execution_count": 150,
   "metadata": {},
   "outputs": [],
   "source": [
    "with open('imageCpy_ascii.png', 'w', encoding='utf8') as file:\n",
    "    file.write(data)\n"
   ]
  },
  {
   "cell_type": "code",
   "execution_count": 212,
   "metadata": {},
   "outputs": [
    {
     "name": "stdout",
     "output_type": "stream",
     "text": [
      "5문장 이상 입력. 종료는 -1\n"
     ]
    },
    {
     "name": "stdin",
     "output_type": "stream",
     "text": [
      "문장을 입력하세요 :  abc def  \n",
      "문장을 입력하세요 :  123 456 77\n",
      "문장을 입력하세요 :  -1\n"
     ]
    },
    {
     "name": "stdout",
     "output_type": "stream",
     "text": [
      "단어 개수 : 6\n",
      "단어 개수 : 14\n",
      "단어 개수 : 5,  문자 개수 : 14\n"
     ]
    }
   ],
   "source": [
    "def makeInverseText(tText):\n",
    "    rText = tText.copy()\n",
    "    for i in range(len(tText)):\n",
    "        a= ''.join(reversed(tText[i]))\n",
    "        rText[i] = a\n",
    "    return rText\n",
    "\n",
    "\n",
    "def countWord(invText):\n",
    "    tempCnt = 0\n",
    "    for i in range(len(invText)):\n",
    "        word = invText[i].split()\n",
    "        tempCnt += len(word)\n",
    "\n",
    "    return tempCnt\n",
    "\n",
    "\n",
    "def countAlph(invText):\n",
    "    tempCnt = 0\n",
    "    for i in range(len(invText)):\n",
    "        word = invText[i].split()\n",
    "        alph = ''.join(word)\n",
    "        tempCnt += len(alph)\n",
    "        print(f'단어 개수 : {tempCnt}')\n",
    "    return tempCnt\n",
    "\n",
    "\n",
    "print(\"5문장 이상 입력. 종료는 -1\")\n",
    "text = []\n",
    "while True:\n",
    "    textTemp = input(\"문장을 입력하세요 : \")\n",
    "    if(textTemp == '-1'):\n",
    "        break\n",
    "    text.append(textTemp)\n",
    "\n",
    "invText = makeInverseText(text)\n",
    "\n",
    "with open('result', 'w', encoding=\"utf8\") as file:\n",
    "    for i in range(len(invText)):\n",
    "        file.write(invText[i])\n",
    "        if(i != len(invText)):\n",
    "            file.write('\\n')\n",
    "\n",
    "wordNum = countWord(invText)\n",
    "alphNum = countAlph(invText)\n",
    "\n",
    "print(f'단어 개수 : {wordNum},  문자 개수 : {alphNum}')\n",
    "\n",
    "\n"
   ]
  },
  {
   "cell_type": "code",
   "execution_count": null,
   "metadata": {},
   "outputs": [],
   "source": []
  },
  {
   "cell_type": "code",
   "execution_count": null,
   "metadata": {},
   "outputs": [],
   "source": []
  },
  {
   "cell_type": "code",
   "execution_count": null,
   "metadata": {},
   "outputs": [],
   "source": []
  },
  {
   "cell_type": "code",
   "execution_count": 162,
   "metadata": {},
   "outputs": [
    {
     "name": "stdout",
     "output_type": "stream",
     "text": [
      "['a', 'b', 'c']\n"
     ]
    }
   ],
   "source": []
  },
  {
   "cell_type": "code",
   "execution_count": null,
   "metadata": {},
   "outputs": [],
   "source": []
  }
 ],
 "metadata": {
  "kernelspec": {
   "display_name": "Python 3",
   "language": "python",
   "name": "python3"
  },
  "language_info": {
   "codemirror_mode": {
    "name": "ipython",
    "version": 3
   },
   "file_extension": ".py",
   "mimetype": "text/x-python",
   "name": "python",
   "nbconvert_exporter": "python",
   "pygments_lexer": "ipython3",
   "version": "3.6.12"
  }
 },
 "nbformat": 4,
 "nbformat_minor": 4
}
