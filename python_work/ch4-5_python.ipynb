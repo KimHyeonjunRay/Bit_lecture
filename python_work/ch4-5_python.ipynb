{
 "cells": [
  {
   "cell_type": "code",
   "execution_count": 1,
   "metadata": {},
   "outputs": [
    {
     "data": {
      "text/plain": [
       "2"
      ]
     },
     "execution_count": 1,
     "metadata": {},
     "output_type": "execute_result"
    }
   ],
   "source": [
    "1+1"
   ]
  },
  {
   "cell_type": "code",
   "execution_count": 3,
   "metadata": {},
   "outputs": [],
   "source": [
    "a=1\n",
    "b=\"가나\"\n"
   ]
  },
  {
   "cell_type": "code",
   "execution_count": null,
   "metadata": {},
   "outputs": [],
   "source": []
  },
  {
   "cell_type": "code",
   "execution_count": 5,
   "metadata": {},
   "outputs": [
    {
     "ename": "SyntaxError",
     "evalue": "can't assign to literal (<ipython-input-5-2263a1723d8a>, line 1)",
     "output_type": "error",
     "traceback": [
      "\u001b[1;36m  File \u001b[1;32m\"<ipython-input-5-2263a1723d8a>\"\u001b[1;36m, line \u001b[1;32m1\u001b[0m\n\u001b[1;33m    age =100, b=2\u001b[0m\n\u001b[1;37m        ^\u001b[0m\n\u001b[1;31mSyntaxError\u001b[0m\u001b[1;31m:\u001b[0m can't assign to literal\n"
     ]
    }
   ],
   "source": [
    "age =100, b=2"
   ]
  },
  {
   "cell_type": "code",
   "execution_count": 6,
   "metadata": {},
   "outputs": [
    {
     "data": {
      "text/plain": [
       "1"
      ]
     },
     "execution_count": 6,
     "metadata": {},
     "output_type": "execute_result"
    }
   ],
   "source": [
    "a"
   ]
  },
  {
   "cell_type": "code",
   "execution_count": 7,
   "metadata": {},
   "outputs": [
    {
     "name": "stdout",
     "output_type": "stream",
     "text": [
      "1\n"
     ]
    }
   ],
   "source": [
    "print(a)"
   ]
  },
  {
   "cell_type": "code",
   "execution_count": 9,
   "metadata": {},
   "outputs": [],
   "source": [
    "age =100 ; b=2"
   ]
  },
  {
   "cell_type": "code",
   "execution_count": 51,
   "metadata": {},
   "outputs": [
    {
     "name": "stdout",
     "output_type": "stream",
     "text": [
      "12345 2 5 5\n"
     ]
    }
   ],
   "source": [
    "x='12345'\n",
    "x[1]\n",
    "print(x, x[1], len(x), x[len(x)-1])"
   ]
  },
  {
   "cell_type": "code",
   "execution_count": 40,
   "metadata": {},
   "outputs": [],
   "source": [
    "a=10e5"
   ]
  },
  {
   "cell_type": "code",
   "execution_count": 41,
   "metadata": {},
   "outputs": [
    {
     "name": "stdout",
     "output_type": "stream",
     "text": [
      "1000000.0 <class 'float'>\n"
     ]
    }
   ],
   "source": [
    "print(a,type(a))"
   ]
  },
  {
   "cell_type": "code",
   "execution_count": 98,
   "metadata": {},
   "outputs": [
    {
     "name": "stdout",
     "output_type": "stream",
     "text": [
      "100000000000000000000 <class 'int'>\n"
     ]
    }
   ],
   "source": [
    "b=100**10\n",
    "print(b,type(b))"
   ]
  },
  {
   "cell_type": "code",
   "execution_count": 60,
   "metadata": {},
   "outputs": [
    {
     "name": "stdout",
     "output_type": "stream",
     "text": [
      "호10\n"
     ]
    }
   ],
   "source": [
    "c='호'\n",
    "print(c+str(10))"
   ]
  },
  {
   "cell_type": "code",
   "execution_count": 61,
   "metadata": {},
   "outputs": [
    {
     "data": {
      "text/plain": [
       "'호10'"
      ]
     },
     "execution_count": 61,
     "metadata": {},
     "output_type": "execute_result"
    }
   ],
   "source": [
    "c+str(10)"
   ]
  },
  {
   "cell_type": "code",
   "execution_count": 62,
   "metadata": {},
   "outputs": [
    {
     "data": {
      "text/plain": [
       "1000"
      ]
     },
     "execution_count": 62,
     "metadata": {},
     "output_type": "execute_result"
    }
   ],
   "source": [
    "a='100'\n",
    "10*int(a)"
   ]
  },
  {
   "cell_type": "code",
   "execution_count": 63,
   "metadata": {},
   "outputs": [
    {
     "data": {
      "text/plain": [
       "10"
      ]
     },
     "execution_count": 63,
     "metadata": {},
     "output_type": "execute_result"
    }
   ],
   "source": [
    "int(10.2)"
   ]
  },
  {
   "cell_type": "code",
   "execution_count": 70,
   "metadata": {},
   "outputs": [
    {
     "name": "stdout",
     "output_type": "stream",
     "text": [
      "내 이름은 홍길동 입니다\n",
      "내 이름은 홍길동 입니다\n",
      "내 이름은 홍길동 입니다\n"
     ]
    }
   ],
   "source": [
    "name = \"홍길동\"\n",
    "print(\"내 이름은 \" +name + \" 입니다\")\n",
    "\n",
    "print(\"내 이름은\" ,name , \"입니다\")\n",
    "print(\"내 이름은 %s 입니다\"%name)"
   ]
  },
  {
   "cell_type": "code",
   "execution_count": 71,
   "metadata": {},
   "outputs": [
    {
     "name": "stdout",
     "output_type": "stream",
     "text": [
      "내 이름은 홍길동 이고, 주소는 서울 입니다\n"
     ]
    }
   ],
   "source": [
    "addr='서울'\n",
    "print(\"내 이름은 %s 이고, 주소는 %s 입니다\"%(name,addr))"
   ]
  },
  {
   "cell_type": "code",
   "execution_count": 75,
   "metadata": {},
   "outputs": [
    {
     "name": "stdout",
     "output_type": "stream",
     "text": [
      "내 이름은 홍길동 이고, 주소는 서울 입니다\n",
      "내 이름은 홍길동 이고, 주소는 서울 입니다\n",
      "내 이름은 서울 이고, 주소는 홍길동 입니다\n"
     ]
    }
   ],
   "source": [
    "print(\"내 이름은 {} 이고, 주소는 {} 입니다\" .format(name,addr))\n",
    "print(\"내 이름은 {0} 이고, 주소는 {1} 입니다\" .format(name,addr))\n",
    "print(\"내 이름은 {1} 이고, 주소는 {0} 입니다\" .format(name,addr))"
   ]
  },
  {
   "cell_type": "code",
   "execution_count": 79,
   "metadata": {},
   "outputs": [
    {
     "data": {
      "text/plain": [
       "'ABC'"
      ]
     },
     "execution_count": 79,
     "metadata": {},
     "output_type": "execute_result"
    }
   ],
   "source": [
    "\"abc\".upper()"
   ]
  },
  {
   "cell_type": "code",
   "execution_count": 81,
   "metadata": {},
   "outputs": [
    {
     "data": {
      "text/plain": [
       "'AbCdddEFG'"
      ]
     },
     "execution_count": 81,
     "metadata": {},
     "output_type": "execute_result"
    }
   ],
   "source": [
    "\"aBcDDDefg\".swapcase()"
   ]
  },
  {
   "cell_type": "code",
   "execution_count": 82,
   "metadata": {},
   "outputs": [
    {
     "data": {
      "text/plain": [
       "'Abcdddefg'"
      ]
     },
     "execution_count": 82,
     "metadata": {},
     "output_type": "execute_result"
    }
   ],
   "source": [
    "\"aBcDDDefg\".capitalize()"
   ]
  },
  {
   "cell_type": "code",
   "execution_count": 83,
   "metadata": {},
   "outputs": [
    {
     "data": {
      "text/plain": [
       "'dbc ssdf'"
      ]
     },
     "execution_count": 83,
     "metadata": {},
     "output_type": "execute_result"
    }
   ],
   "source": [
    "\" dbc ssdf \".strip()"
   ]
  },
  {
   "cell_type": "code",
   "execution_count": 92,
   "metadata": {},
   "outputs": [
    {
     "data": {
      "text/plain": [
       "'dbc ssdf\\n\\r '"
      ]
     },
     "execution_count": 92,
     "metadata": {},
     "output_type": "execute_result"
    }
   ],
   "source": [
    "\" dbc ssdf\\n\\r \".lstrip()"
   ]
  },
  {
   "cell_type": "code",
   "execution_count": 91,
   "metadata": {},
   "outputs": [
    {
     "data": {
      "text/plain": [
       "' dbc ssdf'"
      ]
     },
     "execution_count": 91,
     "metadata": {},
     "output_type": "execute_result"
    }
   ],
   "source": [
    "\" dbc ssdf\\n\\r \".rstrip()"
   ]
  },
  {
   "cell_type": "code",
   "execution_count": 90,
   "metadata": {},
   "outputs": [
    {
     "data": {
      "text/plain": [
       "' dbc kkdflk\\n\\r'"
      ]
     },
     "execution_count": 90,
     "metadata": {},
     "output_type": "execute_result"
    }
   ],
   "source": [
    "\" dbc ssdflk\\n\\r\".replace('ss', 'kk')"
   ]
  },
  {
   "cell_type": "code",
   "execution_count": 94,
   "metadata": {},
   "outputs": [
    {
     "data": {
      "text/plain": [
       "5"
      ]
     },
     "execution_count": 94,
     "metadata": {},
     "output_type": "execute_result"
    }
   ],
   "source": [
    "\" dbc ssdf \".find('ss')"
   ]
  },
  {
   "cell_type": "code",
   "execution_count": 95,
   "metadata": {},
   "outputs": [
    {
     "data": {
      "text/plain": [
       "'a#b#c'"
      ]
     },
     "execution_count": 95,
     "metadata": {},
     "output_type": "execute_result"
    }
   ],
   "source": [
    "msg = ['a','b','c']\n",
    "\"#\".join(msg)"
   ]
  },
  {
   "cell_type": "code",
   "execution_count": 96,
   "metadata": {},
   "outputs": [
    {
     "data": {
      "text/plain": [
       "['010', '1111', '9999']"
      ]
     },
     "execution_count": 96,
     "metadata": {},
     "output_type": "execute_result"
    }
   ],
   "source": [
    "\"010-1111-9999\".split(\"-\")"
   ]
  },
  {
   "cell_type": "code",
   "execution_count": 99,
   "metadata": {},
   "outputs": [
    {
     "name": "stdout",
     "output_type": "stream",
     "text": [
      "이름을 입력ㅇㅇㅇ\n"
     ]
    }
   ],
   "source": [
    "name = input('이름을 입력')"
   ]
  },
  {
   "cell_type": "code",
   "execution_count": 100,
   "metadata": {},
   "outputs": [
    {
     "data": {
      "text/plain": [
       "'ㅇㅇㅇ'"
      ]
     },
     "execution_count": 100,
     "metadata": {},
     "output_type": "execute_result"
    }
   ],
   "source": [
    "name"
   ]
  },
  {
   "cell_type": "code",
   "execution_count": 108,
   "metadata": {},
   "outputs": [
    {
     "name": "stdout",
     "output_type": "stream",
     "text": [
      "인치(inch)를 입력하세요 : 10\n",
      "센티미터 : 25.40\n",
      "센티미터 : 25.4\n",
      "센티미터 : 25.4\n"
     ]
    }
   ],
   "source": [
    "inch = float(input('인치(inch)를 입력하세요 : '))\n",
    "cm = inch*2.54\n",
    "print('센티미터 : %.2f'% cm)\n",
    "print('센티미터 : {}'.format(cm))\n",
    "print(f'센티미터 : {cm}')"
   ]
  },
  {
   "cell_type": "code",
   "execution_count": 109,
   "metadata": {},
   "outputs": [
    {
     "name": "stdout",
     "output_type": "stream",
     "text": [
      "학생 이름을 입력하세요:홍길동\n",
      "국어 성적을 입력하세요:50\n",
      "영어 성적을 입력하세요:60\n",
      "수학 성적을 입력하세요:70\n",
      "이름: 홍길동, 국어:50,영어:60,수학:70, 평균:60.0점\n"
     ]
    }
   ],
   "source": [
    "name = input('학생 이름을 입력하세요:')\n",
    "kor = int(input('국어 성적을 입력하세요:'))\n",
    "eng = int(input('영어 성적을 입력하세요:'))\n",
    "math = int(input('수학 성적을 입력하세요:'))\n",
    "total = kor+eng+math\n",
    "avg = total / 3\n",
    "print('이름: %s, 국어:%d,영어:%d,수학:%d, 평균:%.1f점' %(name,kor,eng,math,avg))"
   ]
  },
  {
   "cell_type": "code",
   "execution_count": 110,
   "metadata": {},
   "outputs": [
    {
     "data": {
      "text/plain": [
       "'\\n독 스트링은 문자열이다. \\n하지만 주석 용도로도 가능하다.\\n'"
      ]
     },
     "execution_count": 110,
     "metadata": {},
     "output_type": "execute_result"
    }
   ],
   "source": [
    "#한줄주석\n",
    "\"\"\"\n",
    "독 스트링은 문자열이다. \n",
    "하지만 주석 용도로도 가능하다.\n",
    "\"\"\""
   ]
  },
  {
   "cell_type": "code",
   "execution_count": 111,
   "metadata": {},
   "outputs": [],
   "source": [
    "mystr = \"\"\"\n",
    "독 스트링은 문자열이다. \n",
    "하지만 주석 용도로도 가능하다.\n",
    "\"\"\""
   ]
  },
  {
   "cell_type": "code",
   "execution_count": 112,
   "metadata": {},
   "outputs": [
    {
     "data": {
      "text/plain": [
       "str"
      ]
     },
     "execution_count": 112,
     "metadata": {},
     "output_type": "execute_result"
    }
   ],
   "source": [
    "type(mystr)"
   ]
  },
  {
   "cell_type": "code",
   "execution_count": 113,
   "metadata": {},
   "outputs": [
    {
     "name": "stdout",
     "output_type": "stream",
     "text": [
      "\n",
      "독 스트링은 문자열이다. \n",
      "하지만 주석 용도로도 가능하다.\n",
      "\n"
     ]
    }
   ],
   "source": [
    "print(mystr)"
   ]
  },
  {
   "cell_type": "code",
   "execution_count": 114,
   "metadata": {},
   "outputs": [
    {
     "name": "stdout",
     "output_type": "stream",
     "text": [
      "Help on built-in function print in module builtins:\n",
      "\n",
      "print(...)\n",
      "    print(value, ..., sep=' ', end='\\n', file=sys.stdout, flush=False)\n",
      "    \n",
      "    Prints the values to a stream, or to sys.stdout by default.\n",
      "    Optional keyword arguments:\n",
      "    file:  a file-like object (stream); defaults to the current sys.stdout.\n",
      "    sep:   string inserted between values, default a space.\n",
      "    end:   string appended after the last value, default a newline.\n",
      "    flush: whether to forcibly flush the stream.\n",
      "\n"
     ]
    }
   ],
   "source": [
    "help(print)"
   ]
  },
  {
   "cell_type": "code",
   "execution_count": 115,
   "metadata": {},
   "outputs": [
    {
     "data": {
      "text/plain": [
       "\"print(value, ..., sep=' ', end='\\\\n', file=sys.stdout, flush=False)\\n\\nPrints the values to a stream, or to sys.stdout by default.\\nOptional keyword arguments:\\nfile:  a file-like object (stream); defaults to the current sys.stdout.\\nsep:   string inserted between values, default a space.\\nend:   string appended after the last value, default a newline.\\nflush: whether to forcibly flush the stream.\""
      ]
     },
     "execution_count": 115,
     "metadata": {},
     "output_type": "execute_result"
    }
   ],
   "source": [
    "print.__doc__"
   ]
  },
  {
   "cell_type": "code",
   "execution_count": 164,
   "metadata": {},
   "outputs": [
    {
     "name": "stdout",
     "output_type": "stream",
     "text": [
      "A가 크네\n",
      "1000\n",
      "정말.. 클까?\n"
     ]
    }
   ],
   "source": [
    "a= 1000\n",
    "b= 100\n",
    "if (a>5) and a>b :\n",
    "    print(\"A가 크네\")\n",
    "    \n",
    "    \n",
    "    b=a\n",
    "    print(b)\n",
    "    print(\"정말.. 클까?\")\n",
    "else :\n",
    "    print(\"A가 작네\")\n"
   ]
  },
  {
   "cell_type": "code",
   "execution_count": 1,
   "metadata": {},
   "outputs": [
    {
     "name": "stdout",
     "output_type": "stream",
     "text": [
      "2057199225264 2057199225232\n"
     ]
    }
   ],
   "source": [
    "a = 257\n",
    "b = 257\n",
    "print(id(a),  id(b))"
   ]
  },
  {
   "cell_type": "code",
   "execution_count": 18,
   "metadata": {},
   "outputs": [
    {
     "data": {
      "text/plain": [
       "['aa', 'ab', 'bb']"
      ]
     },
     "execution_count": 18,
     "metadata": {},
     "output_type": "execute_result"
    }
   ],
   "source": [
    "li = [ 'aa', 'bb', 'ab']\n",
    "sorted(li) #자체 소트함수는 자기자신을 정렬하고, sorted는 이터러블한 것을 정렬해서 리스트로 리턴"
   ]
  },
  {
   "cell_type": "code",
   "execution_count": 19,
   "metadata": {},
   "outputs": [
    {
     "data": {
      "text/plain": [
       "('!', 'rabbit')"
      ]
     },
     "execution_count": 19,
     "metadata": {},
     "output_type": "execute_result"
    }
   ],
   "source": [
    "#Stack FILO(First in last out)\n",
    "li = [\"mary\", \"had\" ,\"a\", \"little\", \"rabbit\"]\n",
    "li.append('!')\n",
    "li.pop(),li.pop()"
   ]
  },
  {
   "cell_type": "code",
   "execution_count": 20,
   "metadata": {},
   "outputs": [
    {
     "data": {
      "text/plain": [
       "('mary', 'had')"
      ]
     },
     "execution_count": 20,
     "metadata": {},
     "output_type": "execute_result"
    }
   ],
   "source": [
    "#Queue FIFO(First in first out)\n",
    "li = [\"mary\", \"had\" ,\"a\", \"little\", \"rabbit\"]\n",
    "li.append('!')\n",
    "li.pop(0),li.pop(0)"
   ]
  },
  {
   "cell_type": "code",
   "execution_count": 22,
   "metadata": {},
   "outputs": [],
   "source": [
    "del(list)"
   ]
  },
  {
   "cell_type": "code",
   "execution_count": 23,
   "metadata": {},
   "outputs": [
    {
     "data": {
      "text/plain": [
       "['a', 'a', 'a']"
      ]
     },
     "execution_count": 23,
     "metadata": {},
     "output_type": "execute_result"
    }
   ],
   "source": [
    "li = list('aaa')\n",
    "li"
   ]
  },
  {
   "cell_type": "code",
   "execution_count": 26,
   "metadata": {},
   "outputs": [
    {
     "data": {
      "text/plain": [
       "['Y',\n",
       " 'o',\n",
       " 'u',\n",
       " ' ',\n",
       " 's',\n",
       " 'h',\n",
       " 'o',\n",
       " 'u',\n",
       " 'l',\n",
       " 'd',\n",
       " ' ',\n",
       " 'c',\n",
       " 'h',\n",
       " 'e',\n",
       " 'c',\n",
       " 'k',\n",
       " ' ',\n",
       " 'f',\n",
       " 'o',\n",
       " 'r',\n",
       " ' ',\n",
       " 'D',\n",
       " 'e',\n",
       " 'p',\n",
       " 'r',\n",
       " 'e',\n",
       " 'c',\n",
       " 'a',\n",
       " 't',\n",
       " 'i',\n",
       " 'o',\n",
       " 'n',\n",
       " 'W',\n",
       " 'a',\n",
       " 'r',\n",
       " 'n',\n",
       " 'i',\n",
       " 'n',\n",
       " 'g',\n",
       " ' ',\n",
       " 'i',\n",
       " 'n',\n",
       " ' ',\n",
       " 'y',\n",
       " 'o',\n",
       " 'u',\n",
       " 'r',\n",
       " ' ',\n",
       " 'c',\n",
       " 'o',\n",
       " 'd',\n",
       " 'e',\n",
       " 'W',\n",
       " 'h',\n",
       " 'e',\n",
       " 'n',\n",
       " ' ',\n",
       " 'P',\n",
       " 'y',\n",
       " 't',\n",
       " 'h',\n",
       " 'o',\n",
       " 'n',\n",
       " ' ',\n",
       " '2',\n",
       " '.',\n",
       " '7',\n",
       " ' ',\n",
       " 'w',\n",
       " 'a',\n",
       " 's',\n",
       " ' ',\n",
       " 's',\n",
       " 't',\n",
       " 'i',\n",
       " 'l',\n",
       " 'l',\n",
       " ' ',\n",
       " 's',\n",
       " 'u',\n",
       " 'p',\n",
       " 'p',\n",
       " 'o',\n",
       " 'r',\n",
       " 't',\n",
       " 'e',\n",
       " 'd',\n",
       " ',',\n",
       " ' ',\n",
       " 'a',\n",
       " ' ',\n",
       " 'l',\n",
       " 'o',\n",
       " 't',\n",
       " ' ',\n",
       " 'o',\n",
       " 'f',\n",
       " ' ',\n",
       " 'f',\n",
       " 'u',\n",
       " 'n',\n",
       " 'c',\n",
       " 't',\n",
       " 'i',\n",
       " 'o',\n",
       " 'n',\n",
       " 'a',\n",
       " 'l',\n",
       " 'i',\n",
       " 't',\n",
       " 'y',\n",
       " ' ',\n",
       " 'i',\n",
       " 'n',\n",
       " ' ',\n",
       " 'P',\n",
       " 'y',\n",
       " 't',\n",
       " 'h',\n",
       " 'o',\n",
       " 'n',\n",
       " ' ',\n",
       " '3',\n",
       " ' ',\n",
       " 'w',\n",
       " 'a',\n",
       " 's',\n",
       " ' ',\n",
       " 'k',\n",
       " 'e',\n",
       " 'p',\n",
       " 't',\n",
       " ' ',\n",
       " 'f',\n",
       " 'o',\n",
       " 'r',\n",
       " ' ',\n",
       " 'b',\n",
       " 'a',\n",
       " 'c',\n",
       " 'k',\n",
       " 'w',\n",
       " 'a',\n",
       " 'r',\n",
       " 'd',\n",
       " ' ',\n",
       " 'c',\n",
       " 'o',\n",
       " 'm',\n",
       " 'p',\n",
       " 'a',\n",
       " 't',\n",
       " 'i',\n",
       " 'b',\n",
       " 'i',\n",
       " 'l',\n",
       " 'i',\n",
       " 't',\n",
       " 'y',\n",
       " ' ',\n",
       " 'w',\n",
       " 'i',\n",
       " 't',\n",
       " 'h',\n",
       " ' ',\n",
       " 'P',\n",
       " 'y',\n",
       " 't',\n",
       " 'h',\n",
       " 'o',\n",
       " 'n',\n",
       " ' ',\n",
       " '2',\n",
       " '.',\n",
       " '7',\n",
       " '.',\n",
       " ' ',\n",
       " 'W',\n",
       " 'i',\n",
       " 't',\n",
       " 'h',\n",
       " ' ',\n",
       " 't',\n",
       " 'h',\n",
       " 'e',\n",
       " ' ',\n",
       " 'e',\n",
       " 'n',\n",
       " 'd',\n",
       " ' ',\n",
       " 'o',\n",
       " 'f',\n",
       " ' ',\n",
       " 'P',\n",
       " 'y',\n",
       " 't',\n",
       " 'h',\n",
       " 'o',\n",
       " 'n',\n",
       " ' ',\n",
       " '2',\n",
       " ' ',\n",
       " 's',\n",
       " 'u',\n",
       " 'p',\n",
       " 'p',\n",
       " 'o',\n",
       " 'r',\n",
       " 't',\n",
       " ',',\n",
       " ' ',\n",
       " 't',\n",
       " 'h',\n",
       " 'e',\n",
       " 's',\n",
       " 'e',\n",
       " ' ',\n",
       " 'b',\n",
       " 'a',\n",
       " 'c',\n",
       " 'k',\n",
       " 'w',\n",
       " 'a',\n",
       " 'r',\n",
       " 'd',\n",
       " ' ',\n",
       " 'c',\n",
       " 'o',\n",
       " 'm',\n",
       " 'p',\n",
       " 'a',\n",
       " 't',\n",
       " 'i',\n",
       " 'b',\n",
       " 'i',\n",
       " 'l',\n",
       " 'i',\n",
       " 't',\n",
       " 'y',\n",
       " ' ',\n",
       " 'l',\n",
       " 'a',\n",
       " 'y',\n",
       " 'e',\n",
       " 'r',\n",
       " 's',\n",
       " ' ',\n",
       " 'h',\n",
       " 'a',\n",
       " 'v',\n",
       " 'e',\n",
       " ' ',\n",
       " 'b',\n",
       " 'e',\n",
       " 'e',\n",
       " 'n',\n",
       " ' ',\n",
       " 'r',\n",
       " 'e',\n",
       " 'm',\n",
       " 'o',\n",
       " 'v',\n",
       " 'e',\n",
       " 'd',\n",
       " ',',\n",
       " ' ',\n",
       " 'o',\n",
       " 'r',\n",
       " ' ',\n",
       " 'w',\n",
       " 'i',\n",
       " 'l',\n",
       " 'l',\n",
       " ' ',\n",
       " 'b',\n",
       " 'e',\n",
       " ' ',\n",
       " 'r',\n",
       " 'e',\n",
       " 'm',\n",
       " 'o',\n",
       " 'v',\n",
       " 'e',\n",
       " 'd',\n",
       " ' ',\n",
       " 's',\n",
       " 'o',\n",
       " 'o',\n",
       " 'n',\n",
       " '.',\n",
       " ' ',\n",
       " 'M',\n",
       " 'o',\n",
       " 's',\n",
       " 't',\n",
       " ' ',\n",
       " 'o',\n",
       " 'f',\n",
       " ' ',\n",
       " 't',\n",
       " 'h',\n",
       " 'e',\n",
       " 'm',\n",
       " ' ',\n",
       " 'e',\n",
       " 'm',\n",
       " 'i',\n",
       " 't',\n",
       " 't',\n",
       " 'e',\n",
       " 'd',\n",
       " ' ',\n",
       " 'a',\n",
       " ' ',\n",
       " 'D',\n",
       " 'e',\n",
       " 'p',\n",
       " 'r',\n",
       " 'e',\n",
       " 'c',\n",
       " 'a',\n",
       " 't',\n",
       " 'i',\n",
       " 'o',\n",
       " 'n',\n",
       " 'W',\n",
       " 'a',\n",
       " 'r',\n",
       " 'n',\n",
       " 'i',\n",
       " 'n',\n",
       " 'g',\n",
       " ' ',\n",
       " 'w',\n",
       " 'a',\n",
       " 'r',\n",
       " 'n',\n",
       " 'i',\n",
       " 'n',\n",
       " 'g',\n",
       " ' ',\n",
       " 'f',\n",
       " 'o',\n",
       " 'r',\n",
       " ' ',\n",
       " 's',\n",
       " 'e',\n",
       " 'v',\n",
       " 'e',\n",
       " 'r',\n",
       " 'a',\n",
       " 'l',\n",
       " ' ',\n",
       " 'y',\n",
       " 'e',\n",
       " 'a',\n",
       " 'r',\n",
       " 's',\n",
       " '.',\n",
       " ' ',\n",
       " 'F',\n",
       " 'o',\n",
       " 'r',\n",
       " ' ',\n",
       " 'e',\n",
       " 'x',\n",
       " 'a',\n",
       " 'm',\n",
       " 'p',\n",
       " 'l',\n",
       " 'e',\n",
       " ',',\n",
       " ' ',\n",
       " 'u',\n",
       " 's',\n",
       " 'i',\n",
       " 'n',\n",
       " 'g',\n",
       " ' ',\n",
       " 'c',\n",
       " 'o',\n",
       " 'l',\n",
       " 'l',\n",
       " 'e',\n",
       " 'c',\n",
       " 't',\n",
       " 'i',\n",
       " 'o',\n",
       " 'n',\n",
       " 's',\n",
       " '.',\n",
       " 'M',\n",
       " 'a',\n",
       " 'p',\n",
       " 'p',\n",
       " 'i',\n",
       " 'n',\n",
       " 'g',\n",
       " ' ',\n",
       " 'i',\n",
       " 'n',\n",
       " 's',\n",
       " 't',\n",
       " 'e',\n",
       " 'a',\n",
       " 'd',\n",
       " ' ',\n",
       " 'o',\n",
       " 'f',\n",
       " ' ',\n",
       " 'c',\n",
       " 'o',\n",
       " 'l',\n",
       " 'l',\n",
       " 'e',\n",
       " 'c',\n",
       " 't',\n",
       " 'i',\n",
       " 'o',\n",
       " 'n',\n",
       " 's',\n",
       " '.',\n",
       " 'a',\n",
       " 'b',\n",
       " 'c',\n",
       " '.',\n",
       " 'M',\n",
       " 'a',\n",
       " 'p',\n",
       " 'p',\n",
       " 'i',\n",
       " 'n',\n",
       " 'g',\n",
       " ' ',\n",
       " 'e',\n",
       " 'm',\n",
       " 'i',\n",
       " 't',\n",
       " 's',\n",
       " ' ',\n",
       " 'a',\n",
       " ' ',\n",
       " 'D',\n",
       " 'e',\n",
       " 'p',\n",
       " 'r',\n",
       " 'e',\n",
       " 'c',\n",
       " 'a',\n",
       " 't',\n",
       " 'i',\n",
       " 'o',\n",
       " 'n',\n",
       " 'W',\n",
       " 'a',\n",
       " 'r',\n",
       " 'n',\n",
       " 'i',\n",
       " 'n',\n",
       " 'g',\n",
       " ' ',\n",
       " 's',\n",
       " 'i',\n",
       " 'n',\n",
       " 'c',\n",
       " 'e',\n",
       " ' ',\n",
       " 'P',\n",
       " 'y',\n",
       " 't',\n",
       " 'h',\n",
       " 'o',\n",
       " 'n',\n",
       " ' ',\n",
       " '3',\n",
       " '.',\n",
       " '3',\n",
       " ',',\n",
       " ' ',\n",
       " 'r',\n",
       " 'e',\n",
       " 'l',\n",
       " 'e',\n",
       " 'a',\n",
       " 's',\n",
       " 'e',\n",
       " 'd',\n",
       " ' ',\n",
       " 'i',\n",
       " 'n',\n",
       " ' ',\n",
       " '2',\n",
       " '0',\n",
       " '1',\n",
       " '2',\n",
       " '.',\n",
       " 'T',\n",
       " 'e',\n",
       " 's',\n",
       " 't',\n",
       " ' ',\n",
       " 'y',\n",
       " 'o',\n",
       " 'u',\n",
       " 'r',\n",
       " ' ',\n",
       " 'a',\n",
       " 'p',\n",
       " 'p',\n",
       " 'l',\n",
       " 'i',\n",
       " 'c',\n",
       " 'a',\n",
       " 't',\n",
       " 'i',\n",
       " 'o',\n",
       " 'n',\n",
       " ' ',\n",
       " 'w',\n",
       " 'i',\n",
       " 't',\n",
       " 'h',\n",
       " ' ',\n",
       " 't',\n",
       " 'h',\n",
       " 'e',\n",
       " ' ',\n",
       " '-',\n",
       " 'W',\n",
       " ' ',\n",
       " 'd',\n",
       " 'e',\n",
       " 'f',\n",
       " 'a',\n",
       " 'u',\n",
       " 'l',\n",
       " 't',\n",
       " ' ',\n",
       " 'c',\n",
       " 'o',\n",
       " 'm',\n",
       " 'm',\n",
       " 'a',\n",
       " 'n',\n",
       " 'd',\n",
       " '-',\n",
       " 'l',\n",
       " 'i',\n",
       " 'n',\n",
       " 'e',\n",
       " ' ',\n",
       " 'o',\n",
       " 'p',\n",
       " 't',\n",
       " 'i',\n",
       " 'o',\n",
       " 'n',\n",
       " ' ',\n",
       " 't',\n",
       " 'o',\n",
       " ' ',\n",
       " 's',\n",
       " 'e',\n",
       " 'e',\n",
       " ' ',\n",
       " 'D',\n",
       " 'e',\n",
       " 'p',\n",
       " 'r',\n",
       " 'e',\n",
       " 'c',\n",
       " 'a',\n",
       " 't',\n",
       " 'i',\n",
       " 'o',\n",
       " 'n',\n",
       " 'W',\n",
       " 'a',\n",
       " 'r',\n",
       " 'n',\n",
       " 'i',\n",
       " 'n',\n",
       " 'g',\n",
       " ' ',\n",
       " 'a',\n",
       " 'n',\n",
       " 'd',\n",
       " ' ',\n",
       " 'P',\n",
       " 'e',\n",
       " 'n',\n",
       " 'd',\n",
       " 'i',\n",
       " 'n',\n",
       " 'g',\n",
       " 'D',\n",
       " 'e',\n",
       " 'p',\n",
       " 'r',\n",
       " 'e',\n",
       " 'c',\n",
       " 'a',\n",
       " 't',\n",
       " 'i',\n",
       " 'o',\n",
       " 'n',\n",
       " 'W',\n",
       " 'a',\n",
       " 'r',\n",
       " 'n',\n",
       " 'i',\n",
       " 'n',\n",
       " 'g',\n",
       " ',',\n",
       " ' ',\n",
       " 'o',\n",
       " 'r',\n",
       " ' ',\n",
       " 'e',\n",
       " 'v',\n",
       " 'e',\n",
       " 'n',\n",
       " ' ',\n",
       " 'w',\n",
       " 'i',\n",
       " 't',\n",
       " 'h',\n",
       " ' ',\n",
       " '-',\n",
       " 'W',\n",
       " ' ',\n",
       " 'e',\n",
       " 'r',\n",
       " 'r',\n",
       " 'o',\n",
       " 'r',\n",
       " ' ',\n",
       " 't',\n",
       " 'o',\n",
       " ' ',\n",
       " 't',\n",
       " 'r',\n",
       " 'e',\n",
       " 'a',\n",
       " 't',\n",
       " ' ',\n",
       " 't',\n",
       " 'h',\n",
       " 'e',\n",
       " 'm',\n",
       " ' ',\n",
       " 'a',\n",
       " 's',\n",
       " ' ',\n",
       " 'e',\n",
       " 'r',\n",
       " 'r',\n",
       " 'o',\n",
       " 'r',\n",
       " 's',\n",
       " '.',\n",
       " ' ',\n",
       " 'W',\n",
       " 'a',\n",
       " 'r',\n",
       " 'n',\n",
       " 'i',\n",
       " 'n',\n",
       " 'g',\n",
       " 's',\n",
       " ' ',\n",
       " 'F',\n",
       " 'i',\n",
       " 'l',\n",
       " 't',\n",
       " 'e',\n",
       " 'r',\n",
       " ' ',\n",
       " 'c',\n",
       " 'a',\n",
       " 'n',\n",
       " ' ',\n",
       " 'b',\n",
       " 'e',\n",
       " ' ',\n",
       " 'u',\n",
       " 's',\n",
       " 'e',\n",
       " 'd',\n",
       " ' ',\n",
       " 't',\n",
       " 'o',\n",
       " ' ',\n",
       " 'i',\n",
       " 'g',\n",
       " 'n',\n",
       " 'o',\n",
       " 'r',\n",
       " 'e',\n",
       " ' ',\n",
       " 'w',\n",
       " 'a',\n",
       " 'r',\n",
       " 'n',\n",
       " 'i',\n",
       " 'n',\n",
       " 'g',\n",
       " 's',\n",
       " ' ',\n",
       " 'f',\n",
       " 'r',\n",
       " 'o',\n",
       " 'm',\n",
       " ' ',\n",
       " 't',\n",
       " 'h',\n",
       " 'i',\n",
       " 'r',\n",
       " 'd',\n",
       " '-',\n",
       " 'p',\n",
       " 'a',\n",
       " 'r',\n",
       " 't',\n",
       " 'y',\n",
       " ' ',\n",
       " 'c',\n",
       " 'o',\n",
       " 'd',\n",
       " 'e',\n",
       " '.',\n",
       " 'P',\n",
       " 'y',\n",
       " 't',\n",
       " 'h',\n",
       " 'o',\n",
       " 'n',\n",
       " ' ',\n",
       " '3',\n",
       " '.',\n",
       " '9',\n",
       " ' ',\n",
       " 'i',\n",
       " 's',\n",
       " ' ',\n",
       " 't',\n",
       " 'h',\n",
       " 'e',\n",
       " ' ',\n",
       " 'l',\n",
       " 'a',\n",
       " 's',\n",
       " 't',\n",
       " ' ',\n",
       " 'v',\n",
       " 'e',\n",
       " 'r',\n",
       " 's',\n",
       " 'i',\n",
       " 'o',\n",
       " 'n',\n",
       " ' ',\n",
       " 'p',\n",
       " 'r',\n",
       " 'o',\n",
       " 'v',\n",
       " 'i',\n",
       " 'd',\n",
       " 'i',\n",
       " 'n',\n",
       " 'g',\n",
       " ' ',\n",
       " 't',\n",
       " 'h',\n",
       " 'o',\n",
       " 's',\n",
       " 'e',\n",
       " ' ',\n",
       " 'P',\n",
       " 'y',\n",
       " 't',\n",
       " 'h',\n",
       " 'o',\n",
       " 'n',\n",
       " ' ',\n",
       " '2',\n",
       " ' ',\n",
       " 'b',\n",
       " 'a',\n",
       " 'c',\n",
       " 'k',\n",
       " 'w',\n",
       " 'a',\n",
       " 'r',\n",
       " 'd',\n",
       " ' ',\n",
       " 'c',\n",
       " 'o',\n",
       " 'm',\n",
       " 'p',\n",
       " 'a',\n",
       " 't',\n",
       " 'i',\n",
       " 'b',\n",
       " 'i',\n",
       " 'l',\n",
       " 'i',\n",
       " 't',\n",
       " 'y',\n",
       " ' ',\n",
       " 'l',\n",
       " 'a',\n",
       " 'y',\n",
       " 'e',\n",
       " 'r',\n",
       " 's',\n",
       " ',',\n",
       " ' ',\n",
       " 't',\n",
       " 'o',\n",
       " ' ',\n",
       " 'g',\n",
       " 'i',\n",
       " 'v',\n",
       " 'e',\n",
       " ' ',\n",
       " 'm',\n",
       " 'o',\n",
       " 'r',\n",
       " 'e',\n",
       " ' ',\n",
       " 't',\n",
       " 'i',\n",
       " 'm',\n",
       " 'e',\n",
       " ' ',\n",
       " 't',\n",
       " 'o',\n",
       " ' ',\n",
       " 'P',\n",
       " 'y',\n",
       " 't',\n",
       " 'h',\n",
       " 'o',\n",
       " 'n',\n",
       " ' ',\n",
       " 'p',\n",
       " 'r',\n",
       " 'o',\n",
       " 'j',\n",
       " 'e',\n",
       " 'c',\n",
       " 't',\n",
       " 's',\n",
       " ' ',\n",
       " 'm',\n",
       " 'a',\n",
       " 'i',\n",
       " 'n',\n",
       " 't',\n",
       " 'a',\n",
       " 'i',\n",
       " 'n',\n",
       " 'e',\n",
       " 'r',\n",
       " 's',\n",
       " ' ',\n",
       " 't',\n",
       " 'o',\n",
       " ' ',\n",
       " 'o',\n",
       " 'r',\n",
       " 'g',\n",
       " 'a',\n",
       " 'n',\n",
       " 'i',\n",
       " 'z',\n",
       " 'e',\n",
       " ' ',\n",
       " 't',\n",
       " 'h',\n",
       " 'e',\n",
       " ' ',\n",
       " 'r',\n",
       " 'e',\n",
       " 'm',\n",
       " 'o',\n",
       " 'v',\n",
       " 'a',\n",
       " 'l',\n",
       " ' ',\n",
       " 'o',\n",
       " 'f',\n",
       " ' ',\n",
       " 't',\n",
       " 'h',\n",
       " 'e',\n",
       " ' ',\n",
       " 'P',\n",
       " 'y',\n",
       " 't',\n",
       " 'h',\n",
       " 'o',\n",
       " 'n',\n",
       " ' ',\n",
       " '2',\n",
       " ' ',\n",
       " 's',\n",
       " 'u',\n",
       " 'p',\n",
       " 'p',\n",
       " 'o',\n",
       " 'r',\n",
       " 't',\n",
       " ' ',\n",
       " 'a',\n",
       " 'n',\n",
       " 'd',\n",
       " ' ',\n",
       " 'a',\n",
       " 'd',\n",
       " 'd',\n",
       " ' ',\n",
       " 's',\n",
       " 'u',\n",
       " 'p',\n",
       " 'p',\n",
       " 'o',\n",
       " 'r',\n",
       " 't',\n",
       " ' ',\n",
       " 'f',\n",
       " 'o',\n",
       " 'r',\n",
       " ' ',\n",
       " 'P',\n",
       " 'y',\n",
       " 't',\n",
       " 'h',\n",
       " 'o',\n",
       " 'n',\n",
       " ' ',\n",
       " '3',\n",
       " '.',\n",
       " '9',\n",
       " '.',\n",
       " 'A',\n",
       " 'l',\n",
       " 'i',\n",
       " 'a',\n",
       " 's',\n",
       " 'e',\n",
       " 's',\n",
       " ' ',\n",
       " 't',\n",
       " 'o',\n",
       " ' ',\n",
       " 'A',\n",
       " 'b',\n",
       " 's',\n",
       " 't',\n",
       " 'r',\n",
       " 'a',\n",
       " 'c',\n",
       " 't',\n",
       " ' ',\n",
       " 'B',\n",
       " 'a',\n",
       " 's',\n",
       " 'e',\n",
       " ' ',\n",
       " 'C',\n",
       " 'l',\n",
       " 'a',\n",
       " 's',\n",
       " 's',\n",
       " 'e',\n",
       " 's',\n",
       " ' ',\n",
       " 'i',\n",
       " 'n',\n",
       " ' ',\n",
       " 't',\n",
       " 'h',\n",
       " 'e',\n",
       " ' ',\n",
       " 'c',\n",
       " 'o',\n",
       " 'l',\n",
       " 'l',\n",
       " 'e',\n",
       " 'c',\n",
       " 't',\n",
       " 'i',\n",
       " 'o',\n",
       " 'n',\n",
       " 's',\n",
       " ' ',\n",
       " 'm',\n",
       " 'o',\n",
       " ...]"
      ]
     },
     "execution_count": 26,
     "metadata": {},
     "output_type": "execute_result"
    }
   ],
   "source": []
  },
  {
   "cell_type": "code",
   "execution_count": 30,
   "metadata": {},
   "outputs": [
    {
     "data": {
      "text/plain": [
       "77"
      ]
     },
     "execution_count": 30,
     "metadata": {},
     "output_type": "execute_result"
    }
   ],
   "source": [
    "li = list(\"\"\"You should check for DeprecationWarning in your code\n",
    "When Python 2.7 was still supported, a lot of functionality in Python 3 was kept for backward compatibility with Python 2.7. With the end of Python 2 support, these backward compatibility layers have been removed, or will be removed soon. Most of them emitted a DeprecationWarning warning for several years. For example, using collections.Mapping instead of collections.abc.Mapping emits a DeprecationWarning since Python 3.3, released in 2012.\n",
    "\n",
    "Test your application with the -W default command-line option to see DeprecationWarning and PendingDeprecationWarning, or even with -W error to treat them as errors. Warnings Filter can be used to ignore warnings from third-party code.\n",
    "\n",
    "Python 3.9 is the last version providing those Python 2 backward compatibility layers, to give more time to Python projects maintainers to organize the removal of the Python 2 support and add support for Python 3.9.\n",
    "\n",
    "Aliases to Abstract Base Classes in the collections module, like collections.Mapping alias to collections.abc.Mapping, are kept for one last release for backward compatibility. They will be removed from Python 3.10.\n",
    "\n",
    "More generally, try to run your tests in the Python Development Mode which helps to prepare your code to make it compatible with the next Python version.\n",
    "\n",
    "Note: a number of pre-existing deprecations were removed in this version of Python as well. Consult the Removed section.\"\"\")\n",
    "\n",
    "i=0\n",
    "while True:\n",
    "   if li[i] \n",
    "li.count('a')"
   ]
  },
  {
   "cell_type": "code",
   "execution_count": null,
   "metadata": {},
   "outputs": [],
   "source": []
  }
 ],
 "metadata": {
  "kernelspec": {
   "display_name": "Python 3",
   "language": "python",
   "name": "python3"
  },
  "language_info": {
   "codemirror_mode": {
    "name": "ipython",
    "version": 3
   },
   "file_extension": ".py",
   "mimetype": "text/x-python",
   "name": "python",
   "nbconvert_exporter": "python",
   "pygments_lexer": "ipython3",
   "version": "3.6.12"
  }
 },
 "nbformat": 4,
 "nbformat_minor": 4
}
