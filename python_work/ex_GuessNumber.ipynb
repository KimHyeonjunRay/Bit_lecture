{
 "cells": [
  {
   "cell_type": "markdown",
   "metadata": {},
   "source": [
    "# random 이용 예제"
   ]
  },
  {
   "cell_type": "markdown",
   "metadata": {},
   "source": [
    "### 난수 (random)\n",
    "\n",
    "파이썬에서 난수(random number)를 사용하기 위해서는 기본적으로 제공되는 random 모듈을 사용한다. random 모듈에서 자주 사용되는 함수는 다음과 같다.\n",
    "\n",
    "- randint(최소, 최대) : 입력 파라미터인 최소부터 최대까지 중 임의의 정수를 리턴한다\n",
    "- random() : 0 부터 1 사이의 부동소수점(float) 숫자를 리턴한다\n",
    "- uniform(최소, 최대) : 입력 파라미터인 최소부터 최대까지 중 임의의 부동소수점(float) 숫자를 리턴한다\n",
    "- randrange(시작,끝[,간격]) : 입력 파라미터인 시작부터 끝값까지 (지정된 간격으로 나열된) 숫자 중 임의의 정수를 리턴한다\n",
    "\n"
   ]
  },
  {
   "cell_type": "code",
   "execution_count": 19,
   "metadata": {},
   "outputs": [],
   "source": [
    "from random import *"
   ]
  },
  {
   "cell_type": "code",
   "execution_count": 20,
   "metadata": {},
   "outputs": [
    {
     "data": {
      "text/plain": [
       "method"
      ]
     },
     "execution_count": 20,
     "metadata": {},
     "output_type": "execute_result"
    }
   ],
   "source": [
    "type(randint)"
   ]
  },
  {
   "cell_type": "code",
   "execution_count": 21,
   "metadata": {},
   "outputs": [
    {
     "data": {
      "text/plain": [
       "48"
      ]
     },
     "execution_count": 21,
     "metadata": {},
     "output_type": "execute_result"
    }
   ],
   "source": [
    "i = randint(1,100)\n",
    "i"
   ]
  },
  {
   "cell_type": "code",
   "execution_count": 22,
   "metadata": {},
   "outputs": [
    {
     "name": "stdout",
     "output_type": "stream",
     "text": [
      "Help on method randint in module random:\n",
      "\n",
      "randint(a, b) method of random.Random instance\n",
      "    Return random integer in range [a, b], including both end points.\n",
      "\n"
     ]
    }
   ],
   "source": [
    "help(randint)"
   ]
  },
  {
   "cell_type": "code",
   "execution_count": 23,
   "metadata": {},
   "outputs": [
    {
     "data": {
      "text/plain": [
       "0.7658745891870562"
      ]
     },
     "execution_count": 23,
     "metadata": {},
     "output_type": "execute_result"
    }
   ],
   "source": [
    "f= random()\n",
    "f"
   ]
  },
  {
   "cell_type": "code",
   "execution_count": 34,
   "metadata": {},
   "outputs": [
    {
     "data": {
      "text/plain": [
       "18.226188670869377"
      ]
     },
     "execution_count": 34,
     "metadata": {},
     "output_type": "execute_result"
    }
   ],
   "source": [
    "f= uniform(1.0,36.5)\n",
    "f"
   ]
  },
  {
   "cell_type": "code",
   "execution_count": 57,
   "metadata": {},
   "outputs": [
    {
     "name": "stdout",
     "output_type": "stream",
     "text": [
      "44\n",
      "0.6425474992948128\n",
      "35.79354527396927\n",
      "5\n",
      "4\n"
     ]
    }
   ],
   "source": [
    "from random import *\n",
    " \n",
    "i = randint(1, 100)  # 1부터 100 사이의 임의의 정수\n",
    "print(i)\n",
    " \n",
    "f = random()   # 0부터 1 사이의 임의의 float\n",
    "print(f)\n",
    " \n",
    "f = uniform(1.0, 36.5)   # 1부터 36.5 사이의 임의의 float\n",
    "print(f)\n",
    " \n",
    "i = randrange(2, 101, 2) # 1부터 100 사이의 임의의 짝수\n",
    "print(i)\n",
    " \n",
    "i = randrange(10)  # 0부터 9 사이의 임의의 정수\n",
    "print(i)"
   ]
  },
  {
   "cell_type": "markdown",
   "metadata": {},
   "source": [
    "random.choice() 는 원소에서 아무 원소나 하나 뽑아 준다."
   ]
  },
  {
   "cell_type": "code",
   "execution_count": 66,
   "metadata": {},
   "outputs": [],
   "source": [
    "import random as rnd"
   ]
  },
  {
   "cell_type": "code",
   "execution_count": 79,
   "metadata": {},
   "outputs": [
    {
     "data": {
      "text/plain": [
       "'b'"
      ]
     },
     "execution_count": 79,
     "metadata": {},
     "output_type": "execute_result"
    }
   ],
   "source": [
    "abc = ['e', 'd', 'a', 'c', 'b']\n",
    "rnd.choice(abc)"
   ]
  },
  {
   "cell_type": "code",
   "execution_count": 80,
   "metadata": {},
   "outputs": [
    {
     "data": {
      "text/plain": [
       "'e'"
      ]
     },
     "execution_count": 80,
     "metadata": {},
     "output_type": "execute_result"
    }
   ],
   "source": [
    "rnd.choice(abc)"
   ]
  },
  {
   "cell_type": "code",
   "execution_count": 81,
   "metadata": {},
   "outputs": [
    {
     "data": {
      "text/plain": [
       "True"
      ]
     },
     "execution_count": 81,
     "metadata": {},
     "output_type": "execute_result"
    }
   ],
   "source": [
    "rnd.choice([True, False])"
   ]
  },
  {
   "cell_type": "code",
   "execution_count": 82,
   "metadata": {},
   "outputs": [
    {
     "data": {
      "text/plain": [
       "False"
      ]
     },
     "execution_count": 82,
     "metadata": {},
     "output_type": "execute_result"
    }
   ],
   "source": [
    "rnd.choice([True, False])"
   ]
  },
  {
   "cell_type": "markdown",
   "metadata": {},
   "source": [
    "#### 실습) Guess number"
   ]
  },
  {
   "cell_type": "markdown",
   "metadata": {},
   "source": [
    "사용자가 입력한 숫자가 난수보다 큰지 작은지를 알려주고 계속 추측해서 난수값을 맞추는 프로그램을 작성하라.\n",
    "\n",
    "```\n",
    "1~100 사이 숫자를 맞춰 보세요!\n",
    "------------------------------------------------------------\n",
    "1 ~ 100 사이의 숫자를 입력하세요: 5\n",
    "작은 수를 입력했네요\n",
    "1 ~ 100 사이의 숫자를 입력하세요: 50\n",
    "작은 수를 입력했네요\n",
    "1 ~ 100 사이의 숫자를 입력하세요: 75\n",
    "큰 수를 입력했네요\n",
    "1 ~ 100 사이의 숫자를 입력하세요: 60\n",
    "큰 수를 입력했네요\n",
    "1 ~ 100 사이의 숫자를 입력하세요: 55\n",
    "큰 수를 입력했네요\n",
    "1 ~ 100 사이의 숫자를 입력하세요: 53\n",
    "큰 수를 입력했네요\n",
    "1 ~ 100 사이의 숫자를 입력하세요: 52\n",
    "큰 수를 입력했네요\n",
    "1 ~ 100 사이의 숫자를 입력하세요: 51\n",
    "------------------------------------------------------------\n",
    "8 번만에 정답을 맞췄네요...\n",
    "```"
   ]
  },
  {
   "cell_type": "code",
   "execution_count": 85,
   "metadata": {},
   "outputs": [
    {
     "name": "stdout",
     "output_type": "stream",
     "text": [
      "1~100 사이 숫자를 맞춰 보세요!\n",
      "--------------------\n"
     ]
    },
    {
     "name": "stdin",
     "output_type": "stream",
     "text": [
      "1 ~ 100 사이의 숫자를 입력하세요:  50\n"
     ]
    },
    {
     "name": "stdout",
     "output_type": "stream",
     "text": [
      "큰 수를 입력했네요\n"
     ]
    },
    {
     "name": "stdin",
     "output_type": "stream",
     "text": [
      "1 ~ 100 사이의 숫자를 입력하세요:  40\n"
     ]
    },
    {
     "name": "stdout",
     "output_type": "stream",
     "text": [
      "큰 수를 입력했네요\n"
     ]
    },
    {
     "name": "stdin",
     "output_type": "stream",
     "text": [
      "1 ~ 100 사이의 숫자를 입력하세요:  20\n"
     ]
    },
    {
     "name": "stdout",
     "output_type": "stream",
     "text": [
      "작은 수를 입력했네요\n"
     ]
    },
    {
     "name": "stdin",
     "output_type": "stream",
     "text": [
      "1 ~ 100 사이의 숫자를 입력하세요:  30\n"
     ]
    },
    {
     "name": "stdout",
     "output_type": "stream",
     "text": [
      "큰 수를 입력했네요\n"
     ]
    },
    {
     "name": "stdin",
     "output_type": "stream",
     "text": [
      "1 ~ 100 사이의 숫자를 입력하세요:  25\n"
     ]
    },
    {
     "name": "stdout",
     "output_type": "stream",
     "text": [
      "작은 수를 입력했네요\n"
     ]
    },
    {
     "name": "stdin",
     "output_type": "stream",
     "text": [
      "1 ~ 100 사이의 숫자를 입력하세요:  28\n"
     ]
    },
    {
     "name": "stdout",
     "output_type": "stream",
     "text": [
      "큰 수를 입력했네요\n"
     ]
    },
    {
     "name": "stdin",
     "output_type": "stream",
     "text": [
      "1 ~ 100 사이의 숫자를 입력하세요:  26\n"
     ]
    },
    {
     "name": "stdout",
     "output_type": "stream",
     "text": [
      "--------------------\n",
      "7 번만에 정답을 맞췄네요...\n"
     ]
    }
   ],
   "source": [
    "ans = rnd.randint(1,101)\n",
    "print(\"1~100 사이 숫자를 맞춰 보세요!\")\n",
    "print('-'*20)\n",
    "cnt = 0\n",
    "while True:\n",
    "    num = int(input(\"1 ~ 100 사이의 숫자를 입력하세요: \"))\n",
    "    cnt += 1\n",
    "    if ans > num:\n",
    "        print(\"작은 수를 입력했네요\")\n",
    "    elif ans < num:\n",
    "        print(\"큰 수를 입력했네요\")\n",
    "    else:\n",
    "        print('-'*20)\n",
    "        print(f'{cnt} 번만에 정답을 맞췄네요...')\n",
    "        break\n",
    "    if(num >100):\n",
    "        break"
   ]
  },
  {
   "cell_type": "code",
   "execution_count": null,
   "metadata": {},
   "outputs": [],
   "source": []
  }
 ],
 "metadata": {
  "kernelspec": {
   "display_name": "Python 3",
   "language": "python",
   "name": "python3"
  },
  "language_info": {
   "codemirror_mode": {
    "name": "ipython",
    "version": 3
   },
   "file_extension": ".py",
   "mimetype": "text/x-python",
   "name": "python",
   "nbconvert_exporter": "python",
   "pygments_lexer": "ipython3",
   "version": "3.6.12"
  }
 },
 "nbformat": 4,
 "nbformat_minor": 4
}
